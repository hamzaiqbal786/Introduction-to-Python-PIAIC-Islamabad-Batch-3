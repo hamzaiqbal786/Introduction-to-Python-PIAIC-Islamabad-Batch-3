{
 "cells": [
  {
   "cell_type": "markdown",
   "metadata": {},
   "source": [
    "# List Methods "
   ]
  },
  {
   "cell_type": "code",
   "execution_count": 1,
   "metadata": {},
   "outputs": [
    {
     "data": {
      "text/plain": [
       "['__add__',\n",
       " '__class__',\n",
       " '__contains__',\n",
       " '__delattr__',\n",
       " '__delitem__',\n",
       " '__dir__',\n",
       " '__doc__',\n",
       " '__eq__',\n",
       " '__format__',\n",
       " '__ge__',\n",
       " '__getattribute__',\n",
       " '__getitem__',\n",
       " '__gt__',\n",
       " '__hash__',\n",
       " '__iadd__',\n",
       " '__imul__',\n",
       " '__init__',\n",
       " '__init_subclass__',\n",
       " '__iter__',\n",
       " '__le__',\n",
       " '__len__',\n",
       " '__lt__',\n",
       " '__mul__',\n",
       " '__ne__',\n",
       " '__new__',\n",
       " '__reduce__',\n",
       " '__reduce_ex__',\n",
       " '__repr__',\n",
       " '__reversed__',\n",
       " '__rmul__',\n",
       " '__setattr__',\n",
       " '__setitem__',\n",
       " '__sizeof__',\n",
       " '__str__',\n",
       " '__subclasshook__',\n",
       " 'append',\n",
       " 'clear',\n",
       " 'copy',\n",
       " 'count',\n",
       " 'extend',\n",
       " 'index',\n",
       " 'insert',\n",
       " 'pop',\n",
       " 'remove',\n",
       " 'reverse',\n",
       " 'sort']"
      ]
     },
     "execution_count": 1,
     "metadata": {},
     "output_type": "execute_result"
    }
   ],
   "source": [
    "dir(list)"
   ]
  },
  {
   "cell_type": "code",
   "execution_count": 35,
   "metadata": {},
   "outputs": [
    {
     "name": "stdout",
     "output_type": "stream",
     "text": [
      "28186\n"
     ]
    }
   ],
   "source": [
    "#slicing for multiple values\n",
    "#index for single value\n",
    "mydata = [\"Hamza\",\"Iqbal\",28186,\"BSCS\",\"Bahria University Islamabad Campus\"]\n",
    "#list[start:end:step]\n",
    "print(mydata[2])"
   ]
  },
  {
   "cell_type": "markdown",
   "metadata": {},
   "source": [
    "# Append "
   ]
  },
  {
   "cell_type": "code",
   "execution_count": 28,
   "metadata": {},
   "outputs": [
    {
     "data": {
      "text/plain": [
       "['Hamza', 'Hassnain', 'Zohaib', 'Touseef']"
      ]
     },
     "execution_count": 28,
     "metadata": {},
     "output_type": "execute_result"
    }
   ],
   "source": [
    "names=[]\n",
    "names.append(\"Hamza\")\n",
    "names.append(\"Hassnain\")\n",
    "names.append(\"Zohaib\")\n",
    "names.append(\"Touseef\")\n",
    "\n",
    "names"
   ]
  },
  {
   "cell_type": "markdown",
   "metadata": {},
   "source": [
    "# Clear"
   ]
  },
  {
   "cell_type": "code",
   "execution_count": 12,
   "metadata": {},
   "outputs": [
    {
     "data": {
      "text/plain": [
       "[]"
      ]
     },
     "execution_count": 12,
     "metadata": {},
     "output_type": "execute_result"
    }
   ],
   "source": [
    "names.clear()\n",
    "\n",
    "names"
   ]
  },
  {
   "cell_type": "markdown",
   "metadata": {},
   "source": [
    "# Copy "
   ]
  },
  {
   "cell_type": "code",
   "execution_count": 58,
   "metadata": {},
   "outputs": [
    {
     "data": {
      "text/plain": [
       "['Hamza', 'Hassnain', 'Zohaib', 'Touseef']"
      ]
     },
     "execution_count": 58,
     "metadata": {},
     "output_type": "execute_result"
    }
   ],
   "source": [
    "mydata = names.copy()\n",
    "mydata"
   ]
  },
  {
   "cell_type": "markdown",
   "metadata": {},
   "source": [
    "# Count"
   ]
  },
  {
   "cell_type": "code",
   "execution_count": 67,
   "metadata": {},
   "outputs": [
    {
     "name": "stdout",
     "output_type": "stream",
     "text": [
      "['Hamza', 'Hassnain', 'Zohaib', 'Touseef']\n"
     ]
    },
    {
     "data": {
      "text/plain": [
       "1"
      ]
     },
     "execution_count": 67,
     "metadata": {},
     "output_type": "execute_result"
    }
   ],
   "source": [
    "print(names)\n",
    "names.count(\"Hamza\")\n"
   ]
  },
  {
   "cell_type": "markdown",
   "metadata": {},
   "source": [
    "# Extend "
   ]
  },
  {
   "cell_type": "code",
   "execution_count": 100,
   "metadata": {},
   "outputs": [
    {
     "name": "stdout",
     "output_type": "stream",
     "text": [
      "After extend\n",
      "['Hamza', 'Hassnain', 'Zohaib', 'Touseef', 'Hamza', 'Iqbal', 28186, 'BSCS', 'Bahria University Islamabad Campus', 'Hamza', 'Iqbal', 28186, 'BSCS', 'Bahria University Islamabad Campus', 'Hamza', 'Iqbal', 28186, 'BSCS', 'Bahria University Islamabad Campus', 'Hamza', 'Iqbal', 28186, 'BSCS', 'Bahria University Islamabad Campus', 'Hamza', 'Iqbal', 28186, 'BSCS', 'Bahria University Islamabad Campus', 'Hamza', 'Iqbal', 28186, 'BSCS', 'Bahria University Islamabad Campus', 'Hamza', 'Iqbal', 28186, 'BSCS', 'Bahria University Islamabad Campus', 'Hamza', 'Iqbal', 28186, 'BSCS', 'Bahria University Islamabad Campus', 'Hamza', 'Iqbal', 28186, 'BSCS', 'Bahria University Islamabad Campus', 'Hamza', 'Iqbal', 28186, 'BSCS', 'Bahria University Islamabad Campus', 'Hamza', 'Iqbal', 28186, 'BSCS', 'Bahria University Islamabad Campus', 'Hamza', 'Iqbal', 28186, 'BSCS', 'Bahria University Islamabad Campus', 'Hamza', 'Iqbal', 28186, 'BSCS', 'Bahria University Islamabad Campus', 'Hamza', 'Iqbal', 28186, 'BSCS', 'Bahria University Islamabad Campus', 'Hamza', 'Iqbal', 28186, 'BSCS', 'Bahria University Islamabad Campus', 'Hamza', 'Iqbal', 28186, 'BSCS', 'Bahria University Islamabad Campus', 'Hamza', 'Iqbal', 28186, 'BSCS', 'Bahria University Islamabad Campus', 'Hamza', 'Iqbal', 28186, 'BSCS', 'Bahria University Islamabad Campus', 'Hamza', 'Iqbal', 28186, 'BSCS', 'BSCS', 'Bahria University Islamabad Campus', 'Hamza', 'Iqbal', 28186, 'BSCS', 'BSCS', 'Bahria University Islamabad Campus']\n",
      "None\n"
     ]
    }
   ],
   "source": [
    "mydata = [\"Hamza\",\"Iqbal\",28186,\"BSCS\",\"BSCS\",\"Bahria University Islamabad Campus\"]\n",
    "\n",
    "\n",
    "print(\"After extend\")\n",
    "\n",
    "print(names+mydata)\n",
    "\n",
    "print(names.extend(mydata)) #in memory operation"
   ]
  },
  {
   "cell_type": "markdown",
   "metadata": {},
   "source": [
    "# Index "
   ]
  },
  {
   "cell_type": "code",
   "execution_count": 96,
   "metadata": {},
   "outputs": [
    {
     "data": {
      "text/plain": [
       "4"
      ]
     },
     "execution_count": 96,
     "metadata": {},
     "output_type": "execute_result"
    }
   ],
   "source": [
    "mydata.index(\"BSCS\",4) #return only first index that matches"
   ]
  },
  {
   "cell_type": "markdown",
   "metadata": {},
   "source": [
    "# Insert "
   ]
  },
  {
   "cell_type": "code",
   "execution_count": 115,
   "metadata": {},
   "outputs": [
    {
     "data": {
      "text/plain": [
       "['Hamza',\n",
       " 'Iqbal',\n",
       " 'Muhammad Iqbal',\n",
       " 28186,\n",
       " 'BSCS',\n",
       " 'BSCS',\n",
       " 'Bahria University Islamabad Campus']"
      ]
     },
     "execution_count": 115,
     "metadata": {},
     "output_type": "execute_result"
    }
   ],
   "source": [
    "mydata = [\"Hamza\",\"Iqbal\",28186,\"BSCS\",\"BSCS\",\"Bahria University Islamabad Campus\"]\n",
    "mydata.insert(2,\"Muhammad Iqbal\")\n",
    "mydata"
   ]
  },
  {
   "cell_type": "markdown",
   "metadata": {},
   "source": [
    "# Pop"
   ]
  },
  {
   "cell_type": "code",
   "execution_count": 116,
   "metadata": {},
   "outputs": [
    {
     "name": "stdout",
     "output_type": "stream",
     "text": [
      "Data Poped = BSCS\n",
      "['Hamza', 'Iqbal', 'Muhammad Iqbal', 28186, 'BSCS', 'Bahria University Islamabad Campus']\n"
     ]
    }
   ],
   "source": [
    "#remove from the top of the list\n",
    "popValue = mydata.pop(-2) #pop method return the value but delete(del) method doesnot return a value\n",
    "print(\"Data Poped = \"+popValue)\n",
    "print(mydata)"
   ]
  },
  {
   "cell_type": "markdown",
   "metadata": {},
   "source": [
    "# Remove"
   ]
  },
  {
   "cell_type": "code",
   "execution_count": 118,
   "metadata": {},
   "outputs": [
    {
     "data": {
      "text/plain": [
       "['Hamza', 'Iqbal', 28186, 'BSCS', 'Bahria University Islamabad Campus']"
      ]
     },
     "execution_count": 118,
     "metadata": {},
     "output_type": "execute_result"
    }
   ],
   "source": [
    "mydata = [\"Hamza\",\"Iqbal\",28186,\"BSCS\",\"BSCS\",\"Bahria University Islamabad Campus\"]\n",
    "mydata.remove(\"BSCS\")\n",
    "mydata"
   ]
  },
  {
   "cell_type": "markdown",
   "metadata": {},
   "source": [
    "# Reverse "
   ]
  },
  {
   "cell_type": "code",
   "execution_count": 120,
   "metadata": {},
   "outputs": [
    {
     "data": {
      "text/plain": [
       "['Bahria University Islamabad Campus', 'BSCS', 'BSCS', 28186, 'Iqbal', 'Hamza']"
      ]
     },
     "execution_count": 120,
     "metadata": {},
     "output_type": "execute_result"
    }
   ],
   "source": [
    "mydata = [\"Hamza\",\"Iqbal\",28186,\"BSCS\",\"BSCS\",\"Bahria University Islamabad Campus\"]\n",
    "mydata.reverse()\n",
    "mydata"
   ]
  },
  {
   "cell_type": "markdown",
   "metadata": {},
   "source": [
    "# Sort"
   ]
  },
  {
   "cell_type": "code",
   "execution_count": 124,
   "metadata": {},
   "outputs": [
    {
     "data": {
      "text/plain": [
       "['a', 'd', 'k', 'y', 'z']"
      ]
     },
     "execution_count": 124,
     "metadata": {},
     "output_type": "execute_result"
    }
   ],
   "source": [
    "mydata = [\"z\",\"k\",\"y\",\"a\",\"d\"]\n",
    "mydata.sort()\n",
    "mydata"
   ]
  },
  {
   "cell_type": "code",
   "execution_count": 125,
   "metadata": {},
   "outputs": [
    {
     "data": {
      "text/plain": [
       "['z', 'y', 'k', 'd', 'a']"
      ]
     },
     "execution_count": 125,
     "metadata": {},
     "output_type": "execute_result"
    }
   ],
   "source": [
    "mydata = [\"z\",\"k\",\"y\",\"a\",\"d\"]\n",
    "mydata.sort(reverse = True)\n",
    "mydata"
   ]
  },
  {
   "cell_type": "markdown",
   "metadata": {},
   "source": [
    "#       __add__"
   ]
  },
  {
   "cell_type": "code",
   "execution_count": 131,
   "metadata": {},
   "outputs": [
    {
     "data": {
      "text/plain": [
       "['z', 'k', 'y', 'a', 'd']"
      ]
     },
     "execution_count": 131,
     "metadata": {},
     "output_type": "execute_result"
    }
   ],
   "source": [
    "mydata = [\"z\",\"k\",\"y\",\"a\",\"d\"]\n",
    "mydata.__add__([\"h\",\"f\",\"x\"]) #in line operation\n",
    "mydata"
   ]
  },
  {
   "cell_type": "markdown",
   "metadata": {},
   "source": [
    "# __Class__"
   ]
  },
  {
   "cell_type": "code",
   "execution_count": 132,
   "metadata": {},
   "outputs": [
    {
     "data": {
      "text/plain": [
       "['z', 'k', 'y', 'a', 'd']"
      ]
     },
     "execution_count": 132,
     "metadata": {},
     "output_type": "execute_result"
    }
   ],
   "source": [
    "mydata = [\"z\",\"k\",\"y\",\"a\",\"d\"]\n",
    "mydata.__class__\n",
    "mydata"
   ]
  },
  {
   "cell_type": "markdown",
   "metadata": {},
   "source": [
    "# __Contains__ "
   ]
  },
  {
   "cell_type": "code",
   "execution_count": 134,
   "metadata": {},
   "outputs": [
    {
     "data": {
      "text/plain": [
       "True"
      ]
     },
     "execution_count": 134,
     "metadata": {},
     "output_type": "execute_result"
    }
   ],
   "source": [
    "mydata = [\"z\",\"k\",\"y\",\"a\",\"d\"]\n",
    "mydata.__contains__(\"a\")"
   ]
  },
  {
   "cell_type": "markdown",
   "metadata": {},
   "source": [
    "# Loops "
   ]
  },
  {
   "cell_type": "code",
   "execution_count": 135,
   "metadata": {},
   "outputs": [
    {
     "data": {
      "text/plain": [
       "['Pakistan',\n",
       " 'Pakistan',\n",
       " 'Pakistan',\n",
       " 'Pakistan',\n",
       " 'Pakistan',\n",
       " 'Pakistan',\n",
       " 'Pakistan',\n",
       " 'Pakistan',\n",
       " 'Pakistan',\n",
       " 'Pakistan']"
      ]
     },
     "execution_count": 135,
     "metadata": {},
     "output_type": "execute_result"
    }
   ],
   "source": [
    "[\"Pakistan\"] * 10"
   ]
  },
  {
   "cell_type": "markdown",
   "metadata": {},
   "source": [
    "# counter\n",
    "# logic\n",
    "# Increment / Decrement\n",
    "1. while\n",
    "2. for\n"
   ]
  },
  {
   "cell_type": "code",
   "execution_count": 2,
   "metadata": {},
   "outputs": [
    {
     "name": "stdout",
     "output_type": "stream",
     "text": [
      "Pakistan 1\n",
      "Pakistan 2\n",
      "Pakistan 3\n",
      "Pakistan 4\n",
      "Pakistan 5\n",
      "Pakistan 6\n",
      "Pakistan 7\n",
      "Pakistan 8\n",
      "Pakistan 9\n",
      "Pakistan 10\n"
     ]
    }
   ],
   "source": [
    "counter = 1\n",
    "while counter <= 10:\n",
    "    print(\"Pakistan \"+str(counter))\n",
    "    counter += 1"
   ]
  },
  {
   "cell_type": "code",
   "execution_count": 5,
   "metadata": {},
   "outputs": [
    {
     "name": "stdout",
     "output_type": "stream",
     "text": [
      "Pakistan  1\n",
      "Pakistan  2\n",
      "Pakistan  3\n",
      "Pakistan  4\n",
      "Pakistan  5\n",
      "Pakistan  6\n",
      "Pakistan  7\n",
      "Pakistan  8\n",
      "Pakistan  9\n",
      "Pakistan  10\n"
     ]
    }
   ],
   "source": [
    "for i in range(1,11):\n",
    "    print(\"Pakistan \",i)"
   ]
  },
  {
   "cell_type": "code",
   "execution_count": 8,
   "metadata": {},
   "outputs": [
    {
     "data": {
      "text/plain": [
       "['Pakistan 1',\n",
       " 'Pakistan 2',\n",
       " 'Pakistan 3',\n",
       " 'Pakistan 4',\n",
       " 'Pakistan 5',\n",
       " 'Pakistan 6',\n",
       " 'Pakistan 7',\n",
       " 'Pakistan 8',\n",
       " 'Pakistan 9',\n",
       " 'Pakistan 10']"
      ]
     },
     "execution_count": 8,
     "metadata": {},
     "output_type": "execute_result"
    }
   ],
   "source": [
    "[\"Pakistan \"+str(i) for i in range(1,11)]"
   ]
  },
  {
   "cell_type": "code",
   "execution_count": 11,
   "metadata": {},
   "outputs": [
    {
     "name": "stdout",
     "output_type": "stream",
     "text": [
      "2 *  1  =  2\n",
      "2 *  2  =  4\n",
      "2 *  3  =  6\n",
      "2 *  4  =  8\n",
      "2 *  5  =  10\n",
      "2 *  6  =  12\n",
      "2 *  7  =  14\n",
      "2 *  8  =  16\n",
      "2 *  9  =  18\n",
      "2 *  10  =  20\n"
     ]
    }
   ],
   "source": [
    "for i in range(1,11):\n",
    "    print(\"2 * \",i,\" = \",2*i)"
   ]
  },
  {
   "cell_type": "code",
   "execution_count": 12,
   "metadata": {},
   "outputs": [
    {
     "name": "stdout",
     "output_type": "stream",
     "text": [
      "2 * 1 = 2\n",
      "2 * 2 = 4\n",
      "2 * 3 = 6\n",
      "2 * 4 = 8\n",
      "2 * 5 = 10\n",
      "2 * 6 = 12\n",
      "2 * 7 = 14\n",
      "2 * 8 = 16\n",
      "2 * 9 = 18\n",
      "2 * 10 = 20\n"
     ]
    }
   ],
   "source": [
    "for i in range(1,11):\n",
    "    print(\"2 * \"+str(i)+\" = \"+str(2*i))"
   ]
  },
  {
   "cell_type": "code",
   "execution_count": 14,
   "metadata": {},
   "outputs": [
    {
     "data": {
      "text/plain": [
       "['2 * 1 = 2',\n",
       " '2 * 2 = 4',\n",
       " '2 * 3 = 6',\n",
       " '2 * 4 = 8',\n",
       " '2 * 5 = 10',\n",
       " '2 * 6 = 12',\n",
       " '2 * 7 = 14',\n",
       " '2 * 8 = 16',\n",
       " '2 * 9 = 18',\n",
       " '2 * 10 = 20']"
      ]
     },
     "execution_count": 14,
     "metadata": {},
     "output_type": "execute_result"
    }
   ],
   "source": [
    "[\"2 * \"+str(i)+\" = \"+str(2*i) for i in range(1,11)]\n",
    "   "
   ]
  },
  {
   "cell_type": "markdown",
   "metadata": {},
   "source": [
    "# Tuple"
   ]
  },
  {
   "cell_type": "code",
   "execution_count": 18,
   "metadata": {},
   "outputs": [
    {
     "data": {
      "text/plain": [
       "\"<class 'tuple'>\""
      ]
     },
     "execution_count": 18,
     "metadata": {},
     "output_type": "execute_result"
    }
   ],
   "source": [
    "str(tuple)"
   ]
  },
  {
   "cell_type": "code",
   "execution_count": 21,
   "metadata": {},
   "outputs": [
    {
     "data": {
      "text/plain": [
       "1"
      ]
     },
     "execution_count": 21,
     "metadata": {},
     "output_type": "execute_result"
    }
   ],
   "source": [
    "a = (1,2,3,4,6,8)\n",
    "a.count(1)"
   ]
  },
  {
   "cell_type": "markdown",
   "metadata": {},
   "source": [
    "# Assignment Tasks"
   ]
  },
  {
   "cell_type": "code",
   "execution_count": 1,
   "metadata": {},
   "outputs": [
    {
     "name": "stdout",
     "output_type": "stream",
     "text": [
      "Enter Name = Hamza\n",
      "Enter Father Name = iqbal\n",
      "Enter Age = 25\n",
      "Do you want to continue (y/n)y\n",
      "Enter Name = Hassnain\n",
      "Enter Father Name = iqbal\n",
      "Enter Age = 32\n",
      "Do you want to continue (y/n)n\n",
      "['Hamza', 'iqbal', '25', 'Hassnain', 'iqbal', '32']\n"
     ]
    }
   ],
   "source": [
    "counter = 1\n",
    "data = []\n",
    "check = True\n",
    "\n",
    "while check == True:\n",
    "    data.append(input(\"Enter Name = \")) \n",
    "    data.append(input(\"Enter Father Name = \"))\n",
    "    data.append(input(\"Enter Age = \"))\n",
    "    \n",
    "    check = input(\"Do you want to continue (y/n):\")\n",
    "    if check == \"y\":\n",
    "        check = True\n",
    "    else:\n",
    "        check = False\n",
    "        \n",
    "print(data)"
   ]
  },
  {
   "cell_type": "code",
   "execution_count": 1,
   "metadata": {},
   "outputs": [
    {
     "name": "stdout",
     "output_type": "stream",
     "text": [
      "1000  \n",
      "999  \n",
      "998  \n",
      "997  \n",
      "996  \n",
      "995  \n",
      "994  \n",
      "993  \n",
      "992  \n",
      "991  \n",
      "990  \n"
     ]
    }
   ],
   "source": [
    "count = 1000\n",
    "\n",
    "while count>=990:\n",
    "    print(count,\" \")\n",
    "    count -= 1"
   ]
  },
  {
   "cell_type": "code",
   "execution_count": 8,
   "metadata": {},
   "outputs": [
    {
     "name": "stdout",
     "output_type": "stream",
     "text": [
      "1000  \n",
      "999  \n",
      "998  \n",
      "997  \n",
      "996  \n",
      "995  \n",
      "994  \n",
      "993  \n",
      "992  \n",
      "991  \n"
     ]
    }
   ],
   "source": [
    "for i in range(1000,990,-1):\n",
    "    print(i,\" \")"
   ]
  },
  {
   "cell_type": "code",
   "execution_count": 2,
   "metadata": {},
   "outputs": [
    {
     "name": "stdout",
     "output_type": "stream",
     "text": [
      "A  a  0\n",
      "B  b  1\n",
      "C  c  2\n",
      "D  d  3\n",
      "E  e  4\n",
      "F  f  5\n",
      "G  g  6\n",
      "H  h  7\n",
      "I  i  8\n",
      "J  j  9\n",
      "K  k  \n",
      "L  l  \n",
      "M  m  \n",
      "N  n  \n",
      "O  o  \n",
      "P  p  \n",
      "Q  q  \n",
      "R  r  \n",
      "S  s  \n",
      "T  t  \n",
      "U  u  \n",
      "V  v  \n",
      "W  w  \n",
      "X  x  \n",
      "Y  y  \n",
      "Z  z  \n"
     ]
    }
   ],
   "source": [
    "capitalAlphabet = 65\n",
    "smallAlphabet = 97\n",
    "numericValues = 48\n",
    "for i in range(1,14):\n",
    "    for j in range(1,3):\n",
    "        if numericValues > 57:\n",
    "            print(chr(capitalAlphabet)+\"  \"+chr(smallAlphabet)+\"  \")\n",
    "        else:\n",
    "            print(chr(capitalAlphabet)+\"  \"+chr(smallAlphabet)+\"  \"+chr(numericValues))\n",
    "        capitalAlphabet +=1\n",
    "        smallAlphabet +=1\n",
    "        numericValues +=1"
   ]
  },
  {
   "cell_type": "code",
   "execution_count": 12,
   "metadata": {},
   "outputs": [
    {
     "name": "stdout",
     "output_type": "stream",
     "text": [
      "Multiplication using value? : 20\n",
      "1  *  1  =  1\n",
      "1  *  2  =  2\n",
      "1  *  3  =  3\n",
      "1  *  4  =  4\n",
      "1  *  5  =  5\n",
      "1  *  6  =  6\n",
      "1  *  7  =  7\n",
      "1  *  8  =  8\n",
      "1  *  9  =  9\n",
      "1  *  10  =  10\n",
      "\n",
      "2  *  1  =  2\n",
      "2  *  2  =  4\n",
      "2  *  3  =  6\n",
      "2  *  4  =  8\n",
      "2  *  5  =  10\n",
      "2  *  6  =  12\n",
      "2  *  7  =  14\n",
      "2  *  8  =  16\n",
      "2  *  9  =  18\n",
      "2  *  10  =  20\n",
      "\n",
      "3  *  1  =  3\n",
      "3  *  2  =  6\n",
      "3  *  3  =  9\n",
      "3  *  4  =  12\n",
      "3  *  5  =  15\n",
      "3  *  6  =  18\n",
      "3  *  7  =  21\n",
      "3  *  8  =  24\n",
      "3  *  9  =  27\n",
      "3  *  10  =  30\n",
      "\n",
      "4  *  1  =  4\n",
      "4  *  2  =  8\n",
      "4  *  3  =  12\n",
      "4  *  4  =  16\n",
      "4  *  5  =  20\n",
      "4  *  6  =  24\n",
      "4  *  7  =  28\n",
      "4  *  8  =  32\n",
      "4  *  9  =  36\n",
      "4  *  10  =  40\n",
      "\n",
      "5  *  1  =  5\n",
      "5  *  2  =  10\n",
      "5  *  3  =  15\n",
      "5  *  4  =  20\n",
      "5  *  5  =  25\n",
      "5  *  6  =  30\n",
      "5  *  7  =  35\n",
      "5  *  8  =  40\n",
      "5  *  9  =  45\n",
      "5  *  10  =  50\n",
      "\n",
      "6  *  1  =  6\n",
      "6  *  2  =  12\n",
      "6  *  3  =  18\n",
      "6  *  4  =  24\n",
      "6  *  5  =  30\n",
      "6  *  6  =  36\n",
      "6  *  7  =  42\n",
      "6  *  8  =  48\n",
      "6  *  9  =  54\n",
      "6  *  10  =  60\n",
      "\n",
      "7  *  1  =  7\n",
      "7  *  2  =  14\n",
      "7  *  3  =  21\n",
      "7  *  4  =  28\n",
      "7  *  5  =  35\n",
      "7  *  6  =  42\n",
      "7  *  7  =  49\n",
      "7  *  8  =  56\n",
      "7  *  9  =  63\n",
      "7  *  10  =  70\n",
      "\n",
      "8  *  1  =  8\n",
      "8  *  2  =  16\n",
      "8  *  3  =  24\n",
      "8  *  4  =  32\n",
      "8  *  5  =  40\n",
      "8  *  6  =  48\n",
      "8  *  7  =  56\n",
      "8  *  8  =  64\n",
      "8  *  9  =  72\n",
      "8  *  10  =  80\n",
      "\n",
      "9  *  1  =  9\n",
      "9  *  2  =  18\n",
      "9  *  3  =  27\n",
      "9  *  4  =  36\n",
      "9  *  5  =  45\n",
      "9  *  6  =  54\n",
      "9  *  7  =  63\n",
      "9  *  8  =  72\n",
      "9  *  9  =  81\n",
      "9  *  10  =  90\n",
      "\n",
      "10  *  1  =  10\n",
      "10  *  2  =  20\n",
      "10  *  3  =  30\n",
      "10  *  4  =  40\n",
      "10  *  5  =  50\n",
      "10  *  6  =  60\n",
      "10  *  7  =  70\n",
      "10  *  8  =  80\n",
      "10  *  9  =  90\n",
      "10  *  10  =  100\n",
      "\n",
      "11  *  1  =  11\n",
      "11  *  2  =  22\n",
      "11  *  3  =  33\n",
      "11  *  4  =  44\n",
      "11  *  5  =  55\n",
      "11  *  6  =  66\n",
      "11  *  7  =  77\n",
      "11  *  8  =  88\n",
      "11  *  9  =  99\n",
      "11  *  10  =  110\n",
      "\n",
      "12  *  1  =  12\n",
      "12  *  2  =  24\n",
      "12  *  3  =  36\n",
      "12  *  4  =  48\n",
      "12  *  5  =  60\n",
      "12  *  6  =  72\n",
      "12  *  7  =  84\n",
      "12  *  8  =  96\n",
      "12  *  9  =  108\n",
      "12  *  10  =  120\n",
      "\n",
      "13  *  1  =  13\n",
      "13  *  2  =  26\n",
      "13  *  3  =  39\n",
      "13  *  4  =  52\n",
      "13  *  5  =  65\n",
      "13  *  6  =  78\n",
      "13  *  7  =  91\n",
      "13  *  8  =  104\n",
      "13  *  9  =  117\n",
      "13  *  10  =  130\n",
      "\n",
      "14  *  1  =  14\n",
      "14  *  2  =  28\n",
      "14  *  3  =  42\n",
      "14  *  4  =  56\n",
      "14  *  5  =  70\n",
      "14  *  6  =  84\n",
      "14  *  7  =  98\n",
      "14  *  8  =  112\n",
      "14  *  9  =  126\n",
      "14  *  10  =  140\n",
      "\n",
      "15  *  1  =  15\n",
      "15  *  2  =  30\n",
      "15  *  3  =  45\n",
      "15  *  4  =  60\n",
      "15  *  5  =  75\n",
      "15  *  6  =  90\n",
      "15  *  7  =  105\n",
      "15  *  8  =  120\n",
      "15  *  9  =  135\n",
      "15  *  10  =  150\n",
      "\n",
      "16  *  1  =  16\n",
      "16  *  2  =  32\n",
      "16  *  3  =  48\n",
      "16  *  4  =  64\n",
      "16  *  5  =  80\n",
      "16  *  6  =  96\n",
      "16  *  7  =  112\n",
      "16  *  8  =  128\n",
      "16  *  9  =  144\n",
      "16  *  10  =  160\n",
      "\n",
      "17  *  1  =  17\n",
      "17  *  2  =  34\n",
      "17  *  3  =  51\n",
      "17  *  4  =  68\n",
      "17  *  5  =  85\n",
      "17  *  6  =  102\n",
      "17  *  7  =  119\n",
      "17  *  8  =  136\n",
      "17  *  9  =  153\n",
      "17  *  10  =  170\n",
      "\n",
      "18  *  1  =  18\n",
      "18  *  2  =  36\n",
      "18  *  3  =  54\n",
      "18  *  4  =  72\n",
      "18  *  5  =  90\n",
      "18  *  6  =  108\n",
      "18  *  7  =  126\n",
      "18  *  8  =  144\n",
      "18  *  9  =  162\n",
      "18  *  10  =  180\n",
      "\n",
      "19  *  1  =  19\n",
      "19  *  2  =  38\n",
      "19  *  3  =  57\n",
      "19  *  4  =  76\n",
      "19  *  5  =  95\n",
      "19  *  6  =  114\n",
      "19  *  7  =  133\n",
      "19  *  8  =  152\n",
      "19  *  9  =  171\n",
      "19  *  10  =  190\n",
      "\n",
      "20  *  1  =  20\n",
      "20  *  2  =  40\n",
      "20  *  3  =  60\n",
      "20  *  4  =  80\n",
      "20  *  5  =  100\n",
      "20  *  6  =  120\n",
      "20  *  7  =  140\n",
      "20  *  8  =  160\n",
      "20  *  9  =  180\n",
      "20  *  10  =  200\n",
      "\n"
     ]
    }
   ],
   "source": [
    "num = int(input(\"Multiplication using value? : \"))\n",
    "\n",
    "for left in range(1,num+1):  # 1st loop\n",
    "    for right in range(1,11): # 2nd loop (nested)\n",
    "        print(left, \" * \", right, \" = \", left * right)\n",
    "    print() # newline"
   ]
  },
  {
   "cell_type": "code",
   "execution_count": 33,
   "metadata": {},
   "outputs": [
    {
     "name": "stdout",
     "output_type": "stream",
     "text": [
      "Divisible =  315\n",
      "Divisible =  630\n",
      "Divisible =  945\n"
     ]
    }
   ],
   "source": [
    "# 5 7 20\n",
    "for x in range(1,1000):\n",
    "    if x%5==0 and x%7==0 and x%9==0:\n",
    "        print(\"Divisible = \",x)\n",
    "        "
   ]
  },
  {
   "cell_type": "code",
   "execution_count": 6,
   "metadata": {},
   "outputs": [
    {
     "name": "stdout",
     "output_type": "stream",
     "text": [
      "(0, 1, 5) (1, 2, 10) (2, 0, 20) (2, 1, 30) (3, 0, 35) (3, 2, 20) "
     ]
    }
   ],
   "source": [
    "l= [[2,5,9],\n",
    "    [8,9,10],\n",
    "    [20,30,27],\n",
    "    [35,9,20]]\n",
    "\n",
    "for ri, r in enumerate(l):\n",
    "    for ci,c in enumerate(r):\n",
    "        if c % 5 == 0:\n",
    "            print((ri,ci,c), end=\" \")"
   ]
  },
  {
   "cell_type": "code",
   "execution_count": 40,
   "metadata": {},
   "outputs": [
    {
     "name": "stdout",
     "output_type": "stream",
     "text": [
      "Thats customer feedback\n"
     ]
    }
   ],
   "source": [
    "girl = \"gorgeous\"\n",
    "person = \"rich\"\n",
    "friend = True\n",
    "girlWalk = True\n",
    "sheSlap = True\n",
    "introHerHusband = True\n",
    "\n",
    "if person == \"rich\" and sheSlap != True and sheSlap != True :\n",
    "    print(\"That is direct Marketing\")\n",
    "elif friend== True and person == \"rich\" and sheSlap != True and sheSlap != True :\n",
    "    print(\"that is advertising\")\n",
    "elif girlWalk == True and person ==\"rich\"  and sheSlap != True:\n",
    "    print(\"Thats Brand Recognition\")\n",
    "elif person == \"rich\" and sheSlap == True:\n",
    "    print(\"Thats customer feedback\")\n",
    "elif person == \"rich\" and introHerHusband == True:\n",
    "    print(\"That is demand and supply Gap\")\n",
    "else:\n",
    "    print(\"Thats restriction from entering new markeet\")\n"
   ]
  },
  {
   "cell_type": "markdown",
   "metadata": {},
   "source": [
    "# Write Python Program to Check Whether a Number is Positive or Negative\n",
    "1. Take the value of the integer and store in a variable.\n",
    "2. Use an if statement to determine whether the number is positive or negative.\n",
    "3. Exit."
   ]
  },
  {
   "cell_type": "code",
   "execution_count": 5,
   "metadata": {},
   "outputs": [
    {
     "name": "stdout",
     "output_type": "stream",
     "text": [
      "Please Enter a number = -5\n",
      "Input number is Negative:\n"
     ]
    }
   ],
   "source": [
    "value = int(input(\"Please Enter a number = \"))\n",
    "if value >= 0:\n",
    "    print(\"Input number is Positive:\")\n",
    "else:\n",
    "    print(\"Input number is Negative:\")"
   ]
  },
  {
   "cell_type": "markdown",
   "metadata": {},
   "source": [
    "# Write Python Program to Take in the Marks of 5 Subjects and Display the Grade\n",
    "1. Take in the marks of 5 subjects from the user and store it in different variables.\n",
    "2. Find the average of the marks.\n",
    "3. Use an else condition to decide the grade based on the average of the marks.\n",
    "4. Exit."
   ]
  },
  {
   "cell_type": "code",
   "execution_count": 8,
   "metadata": {},
   "outputs": [
    {
     "name": "stdout",
     "output_type": "stream",
     "text": [
      "Enter First Course Marks: 80\n",
      "Enter Second Course Marks: 95\n",
      "Enter Third Course Marks: 85\n",
      "Enter Forth Course Marks: 85\n",
      "Enter Fifth Course Marks: 95\n",
      "Average of Given Marks =  88.0\n",
      "Grade B+ is Awarded: \n"
     ]
    }
   ],
   "source": [
    "marks1 = float(input(\"Enter First Course Marks: \"))\n",
    "marks2 = float(input(\"Enter Second Course Marks: \"))\n",
    "marks3 = float(input(\"Enter Third Course Marks: \"))\n",
    "marks4 = float(input(\"Enter Forth Course Marks: \"))\n",
    "marks5 = float(input(\"Enter Fifth Course Marks: \"))\n",
    "\n",
    "avg = (marks1+marks2+marks3+marks4+marks5)/5\n",
    "\n",
    "print(\"Average of Given Marks = \",avg)\n",
    "\n",
    "if avg >= 90:\n",
    "    print(\"Grade A is Awarded: \")\n",
    "elif avg >=70 and avg <=89:\n",
    "    print(\"Grade B+ is Awarded: \")\n",
    "elif avg >=60 and avg <=69:\n",
    "    print(\"Grade B is Awarded: \")\n",
    "elif avg >=50 and avg <=59:\n",
    "    print(\"Grade B+ is Awarded: \")\n",
    "else:\n",
    "    print(\"Grade F is Awarded: \")"
   ]
  },
  {
   "cell_type": "markdown",
   "metadata": {},
   "source": [
    "# Write Python Program to Read Two Numbers and Print Their Quotient and Remainder\n",
    "1. Take in the first and second number and store it in separate variables.\n",
    "2. Then obtain the quotient using division and the remainder using modulus operator.\n",
    "3. Exit. "
   ]
  },
  {
   "cell_type": "code",
   "execution_count": 9,
   "metadata": {},
   "outputs": [
    {
     "name": "stdout",
     "output_type": "stream",
     "text": [
      "Enter First Number :8\n",
      "Enter Second Number : 6\n",
      "Quotient is =  1.0\n",
      "Remainder is =  2.0\n"
     ]
    }
   ],
   "source": [
    "first = float(input(\"Enter First Number :\"))\n",
    "second = float(input(\"Enter Second Number : \"))\n",
    "quotient = first//second\n",
    "remainder = first%second\n",
    "print(\"Quotient is = \",quotient)\n",
    "print(\"Remainder is = \",remainder)"
   ]
  },
  {
   "cell_type": "markdown",
   "metadata": {},
   "source": [
    "# Write Python Program to Print all Integers that Aren’t Divisible by Either 2 or 3 and Lie\n",
    "between 1 and 50.\n",
    "1. Use a for-loop ranging from 0 to 51.\n",
    "2. Then use an if statement to check if the number isn’t divisible by both 2 and 3.\n",
    "3. Print the numbers satisfying the condition.\n",
    "4. Exit. "
   ]
  },
  {
   "cell_type": "code",
   "execution_count": 13,
   "metadata": {},
   "outputs": [
    {
     "name": "stdout",
     "output_type": "stream",
     "text": [
      "Divisible =  1\n",
      "Divisible =  2\n",
      "Divisible =  3\n",
      "Divisible =  4\n",
      "Divisible =  5\n",
      "Divisible =  7\n",
      "Divisible =  8\n",
      "Divisible =  9\n",
      "Divisible =  10\n",
      "Divisible =  11\n",
      "Divisible =  13\n",
      "Divisible =  14\n",
      "Divisible =  15\n",
      "Divisible =  16\n",
      "Divisible =  17\n",
      "Divisible =  19\n",
      "Divisible =  20\n",
      "Divisible =  21\n",
      "Divisible =  22\n",
      "Divisible =  23\n",
      "Divisible =  25\n",
      "Divisible =  26\n",
      "Divisible =  27\n",
      "Divisible =  28\n",
      "Divisible =  29\n",
      "Divisible =  31\n",
      "Divisible =  32\n",
      "Divisible =  33\n",
      "Divisible =  34\n",
      "Divisible =  35\n",
      "Divisible =  37\n",
      "Divisible =  38\n",
      "Divisible =  39\n",
      "Divisible =  40\n",
      "Divisible =  41\n",
      "Divisible =  43\n",
      "Divisible =  44\n",
      "Divisible =  45\n",
      "Divisible =  46\n",
      "Divisible =  47\n",
      "Divisible =  49\n"
     ]
    }
   ],
   "source": [
    "for x in range(1,50):\n",
    "    if x%2 != 0 or x%3 != 0:\n",
    "        print(\"Divisible = \",x)"
   ]
  },
  {
   "cell_type": "markdown",
   "metadata": {},
   "source": [
    "# Write Python Program to Exchange the Values of Two Numbers Without Using a Temporary\n",
    "Variable\n",
    "Problem Solution\n",
    "1. Take the values of both the elements from the user.\n",
    "2. Store the values in separate variables.\n",
    "3. Add both the variables and store it in the first variable.\n",
    "4. Subtract the second variable from the first and store it in the second variable.\n",
    "5. Then, subtract the first variable from the second variable and store it in the first variable.\n",
    "6. Print the swapped values.\n",
    "7. Exit. "
   ]
  },
  {
   "cell_type": "code",
   "execution_count": 17,
   "metadata": {},
   "outputs": [
    {
     "name": "stdout",
     "output_type": "stream",
     "text": [
      "Enter first value = 5\n",
      "Enter second value = 10\n",
      "First value =  -10.0  Second Value =  5.0\n"
     ]
    }
   ],
   "source": [
    "num1 = float(input(\"Enter first value = \"))\n",
    "num2 = float(input(\"Enter second value = \"))\n",
    "\n",
    "num1 = num1 + num2\n",
    "num2 = num1 - num2\n",
    "num1 = num2 - num1\n",
    "\n",
    "print(\"First value = \",num1 , \" Second Value = \" , num2)"
   ]
  },
  {
   "cell_type": "markdown",
   "metadata": {},
   "source": [
    "# Write Python Program to Find the Area of a Triangle Given All Three Sides\n",
    "Problem Solution\n",
    "1. Take in all the three sides of the triangle and store it in three separate variables.\n",
    "2. Then using the Heron’s formula, compute the area of the triangle.\n",
    "3. Print the area of the triangle.\n",
    "4. Exit\n",
    "\n",
    "If a, b and c are three sides of a triangle. Then,\n",
    "\n",
    "s = (a+b+c)/2\n",
    "area = √(s(s-a)*(s-b)*(s-c))"
   ]
  },
  {
   "cell_type": "code",
   "execution_count": 18,
   "metadata": {},
   "outputs": [
    {
     "name": "stdout",
     "output_type": "stream",
     "text": [
      "Enter first value = 47\n",
      "Enter second value = 65\n",
      "Enter Third value = 25\n",
      "The area of the triangle is 473.53\n"
     ]
    }
   ],
   "source": [
    "side1 = float(input(\"Enter first value = \"))\n",
    "side2 = float(input(\"Enter second value = \"))\n",
    "side3 = float(input(\"Enter Third value = \"))\n",
    "\n",
    "s = (side1 + side2 + side3) / 2\n",
    "# calculate the area\n",
    "area = (s*(s-side1)*(s-side2)*(s-side3)) ** 0.5\n",
    "print('The area of the triangle is %0.2f' %area)"
   ]
  },
  {
   "cell_type": "markdown",
   "metadata": {},
   "source": [
    "# Write Python Program to Print Largest Even and Largest Odd Number in a List\n",
    "1. Take in the number of elements to be in the list from the user.\n",
    "2. Take in the elements from the user using a for loop and append to a list.\n",
    "3. Using a for loop, get the elements one by one from the list and check if it odd or even and append them to different lists.\n",
    "4. Sort both the lists individually and get the length of each list.\n",
    "5. Print the last elements of the sorted lists.\n",
    "6. Exit."
   ]
  },
  {
   "cell_type": "code",
   "execution_count": 29,
   "metadata": {},
   "outputs": [
    {
     "name": "stdout",
     "output_type": "stream",
     "text": [
      "Enter 5 number in list \n",
      "Enter 1 number = 8\n",
      "Enter 2 number = 10\n",
      "Enter 3 number = 7\n",
      "Enter 4 number = 30\n",
      "[8, 10, 7, 30]\n",
      "Largest even number: 30\n",
      "Largest odd number 7\n"
     ]
    }
   ],
   "source": [
    "numbers = [] \n",
    "print(\"Enter 5 number in list \")\n",
    "for x in range(1,5):\n",
    "     numbers.append(int(input(\"Enter \"+str(x)+\" number = \")))\n",
    "    \n",
    "print(numbers)\n",
    "\n",
    "c=[]\n",
    "d=[]\n",
    "for i in numbers:\n",
    "    if(i%2==0):\n",
    "        c.append(i)\n",
    "    else:\n",
    "        d.append(i)\n",
    "c.sort()\n",
    "d.sort()\n",
    "count1=0\n",
    "count2=0\n",
    "for k in c:\n",
    "    count1=count1+1\n",
    "for j in d:\n",
    "    count2=count2+1\n",
    "print(\"Largest even number:\",c[count1-1])\n",
    "print(\"Largest odd number\",d[count2-1])\n"
   ]
  },
  {
   "cell_type": "markdown",
   "metadata": {},
   "source": [
    "# Write Python Program to Find the Second Largest Number in a List\n",
    "1. Take in the number of elements and store it in a variable.\n",
    "2. Take in the elements of the list one by one.\n",
    "3. Sort the list in ascending order.\n",
    "4. Print the second last element of the list.\n",
    "5. Exit."
   ]
  },
  {
   "cell_type": "code",
   "execution_count": 37,
   "metadata": {},
   "outputs": [
    {
     "name": "stdout",
     "output_type": "stream",
     "text": [
      "Enter 5 number in list \n",
      "Enter 1 number = 14\n",
      "Enter 2 number = 47\n",
      "Enter 3 number = 21\n",
      "Enter 4 number = 36\n",
      "36\n"
     ]
    }
   ],
   "source": [
    "lol = [] \n",
    "print(\"Enter 5 number in list \")\n",
    "for x in range(1,5):\n",
    "     lol.append(int(input(\"Enter \"+str(x)+\" number = \")))\n",
    "    \n",
    "lol.sort()\n",
    "print(lol[-2])"
   ]
  },
  {
   "cell_type": "markdown",
   "metadata": {},
   "source": [
    "# Write Python Program to Find the Union of two Lists\n",
    "1. Define a function which accepts two lists and returns the union of them.\n",
    "2. Declare two empty lists and initialise to an empty list.\n",
    "3. Consider a for loop to accept values for two lists.\n",
    "4. Take the number of elements in the list and store it in a variable.\n",
    "5. Accept the values into the list using another for loop and insert into the list.\n",
    "6. Repeat 4 and 5 for the second list also.\n",
    "7. Find the union of the two lists.\n",
    "8. Print the union.\n",
    "9. Exit "
   ]
  },
  {
   "cell_type": "code",
   "execution_count": 38,
   "metadata": {},
   "outputs": [
    {
     "name": "stdout",
     "output_type": "stream",
     "text": [
      "[23, 15, 2, 14, 14, 16, 20, 52, 2, 48, 15, 12, 26, 32, 47, 54]\n"
     ]
    }
   ],
   "source": [
    "def Union(lst1, lst2): \n",
    "    final_list = lst1 + lst2 \n",
    "    return final_list \n",
    "  \n",
    "# Driver Code \n",
    "lst1 = [23, 15, 2, 14, 14, 16, 20 ,52] \n",
    "lst2 = [2, 48, 15, 12, 26, 32, 47, 54] \n",
    "print(Union(lst1, lst2)) "
   ]
  }
 ],
 "metadata": {
  "kernelspec": {
   "display_name": "Python 3",
   "language": "python",
   "name": "python3"
  },
  "language_info": {
   "codemirror_mode": {
    "name": "ipython",
    "version": 3
   },
   "file_extension": ".py",
   "mimetype": "text/x-python",
   "name": "python",
   "nbconvert_exporter": "python",
   "pygments_lexer": "ipython3",
   "version": "3.7.4"
  }
 },
 "nbformat": 4,
 "nbformat_minor": 2
}
