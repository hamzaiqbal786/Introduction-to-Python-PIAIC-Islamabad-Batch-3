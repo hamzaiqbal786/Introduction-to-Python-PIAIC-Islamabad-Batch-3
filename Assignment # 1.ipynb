{
 "cells": [
  {
   "cell_type": "markdown",
   "metadata": {},
   "source": [
    "# Performing All String Functions\n",
    "Assignment\n",
    "All String data type Methods\n",
    "20 oprand with different oprators"
   ]
  },
  {
   "cell_type": "markdown",
   "metadata": {},
   "source": [
    "# capitalize()"
   ]
  },
  {
   "cell_type": "code",
   "execution_count": 1,
   "metadata": {},
   "outputs": [
    {
     "name": "stdout",
     "output_type": "stream",
     "text": [
      "Hamza iqbal\n"
     ]
    }
   ],
   "source": [
    "my_name = \"hamza iqbal\"\n",
    "print(my_name.capitalize())"
   ]
  },
  {
   "cell_type": "markdown",
   "metadata": {},
   "source": [
    "# casefold()\n",
    "The casefold() method is an aggressive lower() method which convert strings to casefolded strings for caseless matching. The casefold() method is removes all case distinctions present in a string. It is used for caseless matching, i.e. ignores cases when comparing."
   ]
  },
  {
   "cell_type": "code",
   "execution_count": 5,
   "metadata": {},
   "outputs": [
    {
     "name": "stdout",
     "output_type": "stream",
     "text": [
      "The strings are equal.\n",
      "der fluss\n"
     ]
    }
   ],
   "source": [
    "firstString = \"deR Fluss\"\n",
    "secondString = \"der Fluss\"\n",
    "\n",
    "# ß is equivalent to ss\n",
    "if firstString.casefold() == secondString.casefold():\n",
    "    print('The strings are equal.')\n",
    "else:\n",
    "    print('The strings are not equal.')\n",
    "    \n",
    "print(firstString.casefold())"
   ]
  },
  {
   "cell_type": "markdown",
   "metadata": {},
   "source": [
    "# Center()\n",
    "string center() in python\n",
    "The center() method creates and returns a new string which is padded with the specified character. Syntax: string. center(length[, fillchar]) Parameters: length: length of the string after padding with the characters.\n"
   ]
  },
  {
   "cell_type": "code",
   "execution_count": 15,
   "metadata": {},
   "outputs": [
    {
     "name": "stdout",
     "output_type": "stream",
     "text": [
      "After padding String is:                    Muhammad Iqbal                  \n"
     ]
    }
   ],
   "source": [
    "string = \"Muhammad Iqbal\"\n",
    "  \n",
    "new_string = string.center(50) \n",
    "  \n",
    "# here filchar not provided so takes space by default. \n",
    "print(\"After padding String is: \", new_string) \n"
   ]
  },
  {
   "cell_type": "markdown",
   "metadata": {},
   "source": [
    "# Count()\n",
    "count() is an inbuilt function in Python that returns count of how many times a given object occurs in list. Parameters : Object is the things whose count is to be returned."
   ]
  },
  {
   "cell_type": "code",
   "execution_count": 19,
   "metadata": {},
   "outputs": [
    {
     "name": "stdout",
     "output_type": "stream",
     "text": [
      "4\n",
      "3\n",
      "2\n"
     ]
    }
   ],
   "source": [
    "list1 = [1, 1, 1, 2, 3, 2, 1]  \n",
    "  \n",
    "# Counts the number of times 1 appears in list1 \n",
    "print(list1.count(1))  \n",
    "  \n",
    "list2 = ['a', 'a', 'a', 'b', 'b', 'a', 'c', 'b']  \n",
    "  \n",
    "# Counts the number of times 'b' appears in list2 \n",
    "print(list2.count('b'))  \n",
    "  \n",
    "list3 = ['Cat', 'Bat', 'Sat', 'Cat', 'cat', 'Mat'] \n",
    "  \n",
    "# Counts the number of times 'Cat' appears in list3 \n",
    "print(list3.count('Cat')) "
   ]
  },
  {
   "cell_type": "markdown",
   "metadata": {},
   "source": [
    "# encode()\n",
    "Since Python 3.0, strings are stored as Unicode, i.e. each character in the string is represented by a code point. So, each string is just a sequence of Unicode code points.\n",
    "\n",
    "For efficient storage of these strings, the sequence of code points are converted into set of bytes. The process is known as encoding.\n",
    "\n",
    "There are various encodings present which treats a string differently. The popular encodings being utf-8, ascii, etc."
   ]
  },
  {
   "cell_type": "code",
   "execution_count": 20,
   "metadata": {},
   "outputs": [
    {
     "name": "stdout",
     "output_type": "stream",
     "text": [
      "The string is: pythön!\n",
      "The encoded version is: b'pyth\\xc3\\xb6n!'\n"
     ]
    }
   ],
   "source": [
    "# unicode string\n",
    "string = 'pythön!'\n",
    "# print string\n",
    "print('The string is:', string)\n",
    "# default encoding to utf-8\n",
    "string_utf = string.encode()\n",
    "# print result\n",
    "print('The encoded version is:', string_utf)"
   ]
  },
  {
   "cell_type": "markdown",
   "metadata": {},
   "source": [
    "# endwith()\n",
    "The endswith() method returns True if a string ends with the given suffix otherwise returns False. Parameters : suffix : Suffix is nothing but a string which needs to be checked. start : Starting position from where suffix is needed to be checked within the string."
   ]
  },
  {
   "cell_type": "code",
   "execution_count": 24,
   "metadata": {},
   "outputs": [
    {
     "name": "stdout",
     "output_type": "stream",
     "text": [
      "True\n",
      "False\n",
      "False\n",
      "True\n"
     ]
    }
   ],
   "source": [
    "text = \"Hello Where are you.\"\n",
    "  \n",
    "result = text.endswith('you.') \n",
    "print (result) \n",
    "  \n",
    "result = text.endswith('where') \n",
    "print (result) \n",
    "  \n",
    "result = text.endswith('are') \n",
    "print (result) \n",
    "  \n",
    "result = text.endswith('you.') \n",
    "print (result) "
   ]
  },
  {
   "cell_type": "markdown",
   "metadata": {},
   "source": [
    "# expandtabs()\n",
    "The expandtabs() returns a string where all '\\t' characters are replaced with whitespace characters until the next multiple of tabsize parameter."
   ]
  },
  {
   "cell_type": "code",
   "execution_count": 25,
   "metadata": {},
   "outputs": [
    {
     "name": "stdout",
     "output_type": "stream",
     "text": [
      "xyz     12345   abc\n"
     ]
    }
   ],
   "source": [
    "str = 'xyz\\t12345\\tabc'\n",
    "\n",
    "# no argument is passed\n",
    "# default tabsize is 8\n",
    "result = str.expandtabs()\n",
    "\n",
    "print(result)"
   ]
  },
  {
   "cell_type": "markdown",
   "metadata": {},
   "source": [
    "# find()\n",
    "The find() method returns an integer value. If substring exists inside the string, it returns the index of first occurence of the substring. If substring doesn't exist inside the string, it returns -1."
   ]
  },
  {
   "cell_type": "code",
   "execution_count": 26,
   "metadata": {},
   "outputs": [
    {
     "name": "stdout",
     "output_type": "stream",
     "text": [
      "Substring 'let it': 11\n",
      "Substring 'small ': -1\n",
      "Contains substring 'be,'\n"
     ]
    }
   ],
   "source": [
    "quote = 'Let it be, let it be, let it be'\n",
    "\n",
    "result = quote.find('let it')\n",
    "print(\"Substring 'let it':\", result)\n",
    "\n",
    "result = quote.find('small')\n",
    "print(\"Substring 'small ':\", result)\n",
    "\n",
    "# How to use find()\n",
    "if  (quote.find('be,') != -1):\n",
    "  print(\"Contains substring 'be,'\")\n",
    "else:\n",
    "  print(\"Doesn't contain substring\")"
   ]
  },
  {
   "cell_type": "markdown",
   "metadata": {},
   "source": [
    "# format()\n",
    "format() is one of the string formatting methods in Python3, which allows multiple substitutions and value formatting. This method lets us concatenate elements within a string through positional formatting."
   ]
  },
  {
   "cell_type": "code",
   "execution_count": 28,
   "metadata": {},
   "outputs": [
    {
     "name": "stdout",
     "output_type": "stream",
     "text": [
      "Yes you can, Achive your destination.\n",
      "This article is written in Python\n",
      "Hello, I am 22 years old !\n"
     ]
    }
   ],
   "source": [
    "print (\"{}, Achive your destination.\"\n",
    "                        .format(\"Yes you can\")) \n",
    "  \n",
    "# using format option for a \n",
    "# value stored in a variable \n",
    "str = \"This article is written in {}\"\n",
    "print (str.format(\"Python\")) \n",
    "  \n",
    "# formatting a string using a numeric constant \n",
    "print (\"Hello, I am {} years old !\".format(22))  "
   ]
  },
  {
   "cell_type": "markdown",
   "metadata": {},
   "source": [
    "# format_map()"
   ]
  },
  {
   "cell_type": "code",
   "execution_count": 29,
   "metadata": {},
   "outputs": [
    {
     "name": "stdout",
     "output_type": "stream",
     "text": [
      "John's last name is Wick\n"
     ]
    }
   ],
   "source": [
    "# input stored in variable a. \n",
    "a = {'x':'John', 'y':'Wick'} \n",
    "  \n",
    "# Use of format_map() function \n",
    "print(\"{x}'s last name is {y}\".format_map(a)) "
   ]
  },
  {
   "cell_type": "markdown",
   "metadata": {},
   "source": [
    "# index()"
   ]
  },
  {
   "cell_type": "code",
   "execution_count": 1,
   "metadata": {},
   "outputs": [
    {
     "name": "stdout",
     "output_type": "stream",
     "text": [
      "3\n",
      "0\n"
     ]
    }
   ],
   "source": [
    "# Python3 program for demonstration   \n",
    "# of list index() method \n",
    "  \n",
    "list1 = [1, 2, 3, 4, 1, 1, 1, 4, 5] \n",
    "  \n",
    "# Will print the index of '4' in list1 \n",
    "print(list1.index(4)) \n",
    "  \n",
    "list2 = ['cat', 'bat', 'mat', 'cat', 'pet'] \n",
    "  \n",
    "# Will print the index of 'cat' in list2  \n",
    "print(list2.index('cat'))"
   ]
  },
  {
   "cell_type": "markdown",
   "metadata": {},
   "source": [
    "# isalnum()"
   ]
  },
  {
   "cell_type": "code",
   "execution_count": 2,
   "metadata": {},
   "outputs": [
    {
     "name": "stdout",
     "output_type": "stream",
     "text": [
      "True\n",
      "False\n"
     ]
    }
   ],
   "source": [
    "# Python program to demonstrate the use of \n",
    "# isalnum() method   \n",
    "  \n",
    "# here a,b and c are characters and 1,2 and 3 \n",
    "# are numbers \n",
    "string = \"abc123\"\n",
    "print(string.isalnum()) \n",
    "  \n",
    "# here a,b and c are characters and 1,2 and 3  \n",
    "# are numbers but space is not a alphanumeric  \n",
    "# character \n",
    "string = \"abc 123\" \n",
    "print(string.isalnum())  "
   ]
  },
  {
   "cell_type": "markdown",
   "metadata": {},
   "source": [
    "# isalpha()"
   ]
  },
  {
   "cell_type": "code",
   "execution_count": 1,
   "metadata": {},
   "outputs": [
    {
     "name": "stdout",
     "output_type": "stream",
     "text": [
      "True\n",
      "False\n"
     ]
    }
   ],
   "source": [
    "str = \"this\";  # No space & digit in this string\n",
    "print (str.isalpha())\n",
    "\n",
    "str = \"this is string example....wow!!!\"\n",
    "print (str.isalpha())"
   ]
  },
  {
   "cell_type": "markdown",
   "metadata": {},
   "source": [
    "# isascii()"
   ]
  },
  {
   "cell_type": "code",
   "execution_count": 2,
   "metadata": {},
   "outputs": [
    {
     "name": "stdout",
     "output_type": "stream",
     "text": [
      "'Python is interesting'\n",
      "'Pyth\\xf6n is interesting'\n",
      "Pythön is interesting\n"
     ]
    }
   ],
   "source": [
    "normalText = 'Python is interesting'\n",
    "print(ascii(normalText))\n",
    "\n",
    "otherText = 'Pythön is interesting'\n",
    "print(ascii(otherText))\n",
    "\n",
    "print('Pyth\\xf6n is interesting')"
   ]
  },
  {
   "cell_type": "markdown",
   "metadata": {},
   "source": [
    "# isdecimal()"
   ]
  },
  {
   "cell_type": "code",
   "execution_count": 3,
   "metadata": {},
   "outputs": [
    {
     "name": "stdout",
     "output_type": "stream",
     "text": [
      "True\n",
      "False\n",
      "False\n"
     ]
    }
   ],
   "source": [
    "s = \"12345\"\n",
    "print(s.isdecimal()) \n",
    "  \n",
    "# contains alphabets \n",
    "s = \"12geeks34\"\n",
    "print(s.isdecimal()) \n",
    "  \n",
    "# contains numbers and spaces \n",
    "s = \"12 34\"\n",
    "print(s.isdecimal()) "
   ]
  },
  {
   "cell_type": "markdown",
   "metadata": {},
   "source": [
    "# isdigit()"
   ]
  },
  {
   "cell_type": "code",
   "execution_count": 4,
   "metadata": {},
   "outputs": [
    {
     "name": "stdout",
     "output_type": "stream",
     "text": [
      "True\n",
      "False\n"
     ]
    }
   ],
   "source": [
    "# checking for digit \n",
    "string = '15460'\n",
    "print(string.isdigit()) \n",
    "   \n",
    "  \n",
    "string = '154ayush60'\n",
    "print(string.isdigit()) "
   ]
  },
  {
   "cell_type": "markdown",
   "metadata": {},
   "source": [
    "# isidentifier()"
   ]
  },
  {
   "cell_type": "code",
   "execution_count": 5,
   "metadata": {},
   "outputs": [
    {
     "name": "stdout",
     "output_type": "stream",
     "text": [
      "True\n",
      "False\n",
      "False\n",
      "False\n"
     ]
    }
   ],
   "source": [
    "str = 'Python'\n",
    "print(str.isidentifier())\n",
    "\n",
    "str = 'Py thon'\n",
    "print(str.isidentifier())\n",
    "\n",
    "str = '22Python'\n",
    "print(str.isidentifier())\n",
    "\n",
    "str = ''\n",
    "print(str.isidentifier())"
   ]
  },
  {
   "cell_type": "markdown",
   "metadata": {},
   "source": [
    "# islower()"
   ]
  },
  {
   "cell_type": "code",
   "execution_count": 13,
   "metadata": {},
   "outputs": [
    {
     "name": "stdout",
     "output_type": "stream",
     "text": [
      "True\n",
      "True\n"
     ]
    }
   ],
   "source": [
    "# checking for lowercase characters \n",
    "string = 'hamza iqbal'\n",
    "print(string.islower()) \n",
    "  \n",
    "string = '%alias'\n",
    "print(string.islower()) "
   ]
  },
  {
   "cell_type": "markdown",
   "metadata": {},
   "source": [
    "# isnumeric()"
   ]
  },
  {
   "cell_type": "code",
   "execution_count": 7,
   "metadata": {},
   "outputs": [
    {
     "name": "stdout",
     "output_type": "stream",
     "text": [
      "True\n",
      "True\n",
      "True\n",
      "False\n"
     ]
    }
   ],
   "source": [
    "s = '1242323'\n",
    "print(s.isnumeric())\n",
    "#s = '²3455'\n",
    "s = '\\u00B23455'\n",
    "print(s.isnumeric())\n",
    "# s = '½'\n",
    "s = '\\u00BD'\n",
    "print(s.isnumeric())\n",
    "s = '1242323'\n",
    "s='python12'\n",
    "print(s.isnumeric())"
   ]
  },
  {
   "cell_type": "markdown",
   "metadata": {},
   "source": [
    "# isprintable()"
   ]
  },
  {
   "cell_type": "code",
   "execution_count": 8,
   "metadata": {},
   "outputs": [
    {
     "name": "stdout",
     "output_type": "stream",
     "text": [
      "Space is a printable\n",
      "True\n",
      "\n",
      "New Line is printable\n",
      "False\n",
      "\n",
      "Empty string printable? True\n"
     ]
    }
   ],
   "source": [
    "s = 'Space is a printable'\n",
    "print(s)\n",
    "print(s.isprintable())\n",
    "\n",
    "s = '\\nNew Line is printable'\n",
    "print(s)\n",
    "print(s.isprintable())\n",
    "\n",
    "s = ''\n",
    "print('\\nEmpty string printable?', s.isprintable())"
   ]
  },
  {
   "cell_type": "markdown",
   "metadata": {},
   "source": [
    "# isspace()"
   ]
  },
  {
   "cell_type": "code",
   "execution_count": 12,
   "metadata": {},
   "outputs": [
    {
     "name": "stdout",
     "output_type": "stream",
     "text": [
      "False\n",
      "True\n",
      "False\n"
     ]
    }
   ],
   "source": [
    "# checking for whitespace characters \n",
    "string = 'HAMZAIQBAL'\n",
    "  \n",
    "print(string.isspace()) \n",
    "   \n",
    "# checking if \\n is a whitespace character \n",
    "string = '\\n \\n \\n'\n",
    "  \n",
    "print(string.isspace()) \n",
    "  \n",
    "string = 'HAMZA\\nIQBAL\\n'\n",
    "print( string.isspace()) "
   ]
  },
  {
   "cell_type": "markdown",
   "metadata": {},
   "source": [
    "# istitle()"
   ]
  },
  {
   "cell_type": "code",
   "execution_count": 13,
   "metadata": {},
   "outputs": [
    {
     "name": "stdout",
     "output_type": "stream",
     "text": [
      "True\n",
      "False\n"
     ]
    }
   ],
   "source": [
    "mystr = \"This Is String Example...Wow!!!\";\n",
    "print(mystr.istitle())\n",
    "\n",
    "mystr = \"This is string example....wow!!!\";\n",
    "print(mystr.istitle()) "
   ]
  },
  {
   "cell_type": "markdown",
   "metadata": {},
   "source": [
    "# isupper()"
   ]
  },
  {
   "cell_type": "code",
   "execution_count": 10,
   "metadata": {},
   "outputs": [
    {
     "name": "stdout",
     "output_type": "stream",
     "text": [
      "True\n",
      "False\n"
     ]
    }
   ],
   "source": [
    "string = 'HAMZA'\n",
    "print(string.isupper()) \n",
    "  \n",
    "string = 'zohaib iqbal'\n",
    "print(string.isupper()) "
   ]
  },
  {
   "cell_type": "markdown",
   "metadata": {},
   "source": [
    "# join()"
   ]
  },
  {
   "cell_type": "code",
   "execution_count": 15,
   "metadata": {},
   "outputs": [
    {
     "name": "stdout",
     "output_type": "stream",
     "text": [
      "1, 2, 3\n",
      "Java->->Ruby->->Python\n"
     ]
    }
   ],
   "source": [
    "test =  {'2', '1', '3'}\n",
    "s = ', '\n",
    "print(s.join(test))\n",
    "\n",
    "test = {'Python', 'Java', 'Ruby'}\n",
    "s = '->->'\n",
    "print(s.join(test))"
   ]
  },
  {
   "cell_type": "markdown",
   "metadata": {},
   "source": [
    "# ljust()"
   ]
  },
  {
   "cell_type": "code",
   "execution_count": 18,
   "metadata": {},
   "outputs": [
    {
     "name": "stdout",
     "output_type": "stream",
     "text": [
      "this is string example....wow!!!000000000000000000\n"
     ]
    }
   ],
   "source": [
    "str = \"this is string example....wow!!!\";\n",
    "print(str.ljust(50, '0'))"
   ]
  },
  {
   "cell_type": "markdown",
   "metadata": {},
   "source": [
    "# lower()"
   ]
  },
  {
   "cell_type": "code",
   "execution_count": 8,
   "metadata": {},
   "outputs": [
    {
     "name": "stdout",
     "output_type": "stream",
     "text": [
      "hamza iqbal\n",
      "hassnain iqbal\n"
     ]
    }
   ],
   "source": [
    "string = 'Hamza IQBAL'\n",
    "print(string.lower()) \n",
    "  \n",
    "string = 'HASSNAIN IQBAL'\n",
    "print(string.lower()) "
   ]
  },
  {
   "cell_type": "markdown",
   "metadata": {},
   "source": [
    "# lstrip()"
   ]
  },
  {
   "cell_type": "code",
   "execution_count": 20,
   "metadata": {},
   "outputs": [
    {
     "name": "stdout",
     "output_type": "stream",
     "text": [
      "this is good \n",
      "   this is good \n",
      "his is good \n",
      "www.programiz.com/\n"
     ]
    }
   ],
   "source": [
    "random_string = '   this is good '\n",
    "\n",
    "# Leading whitepsace are removed\n",
    "print(random_string.lstrip())\n",
    "\n",
    "# Argument doesn't contain space\n",
    "# No characters are removed.\n",
    "print(random_string.lstrip('sti'))\n",
    "\n",
    "print(random_string.lstrip('s ti'))\n",
    "\n",
    "website = 'https://www.programiz.com/'\n",
    "print(website.lstrip('htps:/.'))"
   ]
  },
  {
   "cell_type": "markdown",
   "metadata": {},
   "source": [
    "# maketrans()"
   ]
  },
  {
   "cell_type": "code",
   "execution_count": null,
   "metadata": {},
   "outputs": [],
   "source": [
    "# example dictionary\n",
    "dict = {\"a\": \"123\", \"b\": \"456\", \"c\": \"789\"}\n",
    "string = \"abc\"\n",
    "print(string.maketrans(dict))\n",
    "\n",
    "# example dictionary\n",
    "dict = {97: \"123\", 98: \"456\", 99: \"789\"}\n",
    "string = \"abc\"\n",
    "print(string.maketrans(dict))"
   ]
  },
  {
   "cell_type": "markdown",
   "metadata": {},
   "source": [
    "# partition()"
   ]
  },
  {
   "cell_type": "code",
   "execution_count": 21,
   "metadata": {},
   "outputs": [
    {
     "name": "stdout",
     "output_type": "stream",
     "text": [
      "('Python ', 'is ', 'fun')\n",
      "('Python is fun', '', '')\n",
      "('Python ', 'is', \" fun, isn't it\")\n"
     ]
    }
   ],
   "source": [
    "string = \"Python is fun\"\n",
    "\n",
    "# 'is' separator is found\n",
    "print(string.partition('is '))\n",
    "\n",
    "# 'not' separator is not found\n",
    "print(string.partition('not '))\n",
    "\n",
    "string = \"Python is fun, isn't it\"\n",
    "\n",
    "# splits at first occurence of 'is'\n",
    "print(string.partition('is'))"
   ]
  },
  {
   "cell_type": "markdown",
   "metadata": {},
   "source": [
    "# replace()"
   ]
  },
  {
   "cell_type": "code",
   "execution_count": 7,
   "metadata": {},
   "outputs": [
    {
     "name": "stdout",
     "output_type": "stream",
     "text": [
      "python is Awsome language\n",
      "python is awsome Programming Language\n"
     ]
    }
   ],
   "source": [
    "string = \"python is awsome language\" \n",
    "     \n",
    "print(string.replace(\"awsome\", \"Awsome\"))  \n",
    "    \n",
    "print(string.replace(\"language\", \"Programming Language\", 3)) "
   ]
  },
  {
   "cell_type": "markdown",
   "metadata": {},
   "source": [
    "# rfind()"
   ]
  },
  {
   "cell_type": "code",
   "execution_count": 25,
   "metadata": {},
   "outputs": [
    {
     "name": "stdout",
     "output_type": "stream",
     "text": [
      "5\n",
      "5\n",
      "-1\n",
      "2\n",
      "2\n",
      "-1\n"
     ]
    }
   ],
   "source": [
    "str1 = \"this is really a string example....wow!!!\";\n",
    "str2 = \"is\";\n",
    "\n",
    "print(str1.rfind(str2))\n",
    "print(str1.rfind(str2, 0, 10))\n",
    "print(str1.rfind(str2, 10, 0))\n",
    "\n",
    "print(str1.find(str2))\n",
    "print(str1.find(str2, 0, 10))\n",
    "print(str1.find(str2, 10, 0))"
   ]
  },
  {
   "cell_type": "markdown",
   "metadata": {},
   "source": [
    "# rindex()"
   ]
  },
  {
   "cell_type": "code",
   "execution_count": 27,
   "metadata": {},
   "outputs": [
    {
     "name": "stdout",
     "output_type": "stream",
     "text": [
      "5\n",
      "2\n"
     ]
    }
   ],
   "source": [
    "str1 = \"this is string example....wow!!!\";\n",
    "str2 = \"is\";\n",
    "\n",
    "print(str1.rindex(str2))\n",
    "print(str1.index(str2))"
   ]
  },
  {
   "cell_type": "markdown",
   "metadata": {},
   "source": [
    "# rjust()"
   ]
  },
  {
   "cell_type": "code",
   "execution_count": 28,
   "metadata": {},
   "outputs": [
    {
     "name": "stdout",
     "output_type": "stream",
     "text": [
      "000000000000000000this is string example....wow!!!\n"
     ]
    }
   ],
   "source": [
    "str = \"this is string example....wow!!!\";\n",
    "print(str.rjust(50, '0'))"
   ]
  },
  {
   "cell_type": "markdown",
   "metadata": {},
   "source": [
    "# rpartition()"
   ]
  },
  {
   "cell_type": "code",
   "execution_count": 29,
   "metadata": {},
   "outputs": [
    {
     "name": "stdout",
     "output_type": "stream",
     "text": [
      "('Geeks@for@Geeks@is@for', '@', 'geeks')\n",
      "('Ram is not eating but Mohan ', 'is', ' eating')\n"
     ]
    }
   ],
   "source": [
    "# String need to split \n",
    "string1 = \"Geeks@for@Geeks@is@for@geeks\"\n",
    "  \n",
    "string2 = \"Ram is not eating but Mohan is eating\"\n",
    "  \n",
    "# Here '@' is a separator \n",
    "print(string1.rpartition('@')) \n",
    "  \n",
    "# Here 'is' is seperator \n",
    "print(string2.rpartition('is')) "
   ]
  },
  {
   "cell_type": "markdown",
   "metadata": {},
   "source": [
    "# rsplit()"
   ]
  },
  {
   "cell_type": "code",
   "execution_count": 30,
   "metadata": {},
   "outputs": [
    {
     "name": "stdout",
     "output_type": "stream",
     "text": [
      "['Love', 'thy', 'neighbor']\n",
      "['Milk', 'Chicken', 'Bread']\n",
      "['Milk, Chicken, Bread']\n"
     ]
    }
   ],
   "source": [
    "text= 'Love thy neighbor'\n",
    "\n",
    "# splits at space\n",
    "print(text.rsplit())\n",
    "\n",
    "grocery = 'Milk, Chicken, Bread'\n",
    "\n",
    "# splits at ','\n",
    "print(grocery.rsplit(', '))\n",
    "\n",
    "# Splitting at ':'\n",
    "print(grocery.rsplit(':'))"
   ]
  },
  {
   "cell_type": "markdown",
   "metadata": {},
   "source": [
    "# rstrip()"
   ]
  },
  {
   "cell_type": "code",
   "execution_count": 5,
   "metadata": {},
   "outputs": [
    {
     "name": "stdout",
     "output_type": "stream",
     "text": [
      " this is good\n",
      " this is good\n",
      " this is g\n",
      "hello world\n"
     ]
    }
   ],
   "source": [
    "random_string = ' this is good'\n",
    "\n",
    "# Leading whitepsace are removed\n",
    "print(random_string.rstrip())\n",
    "\n",
    "# Argument doesn't contain 'd'\n",
    "# No characters are removed.\n",
    "print(random_string.rstrip('si oo'))\n",
    "\n",
    "print(random_string.rstrip('sid oo'))\n",
    "\n",
    "website = 'hello world/'\n",
    "print(website.rstrip('m/.'))"
   ]
  },
  {
   "cell_type": "markdown",
   "metadata": {},
   "source": [
    "# split()"
   ]
  },
  {
   "cell_type": "code",
   "execution_count": 32,
   "metadata": {},
   "outputs": [
    {
     "name": "stdout",
     "output_type": "stream",
     "text": [
      "['welcome', 'to', 'the', 'jungle']\n"
     ]
    }
   ],
   "source": [
    "txt = \"welcome to the jungle\"\n",
    "\n",
    "x = txt.split()\n",
    "\n",
    "print(x)"
   ]
  },
  {
   "cell_type": "markdown",
   "metadata": {},
   "source": [
    "# splitlines()"
   ]
  },
  {
   "cell_type": "code",
   "execution_count": 33,
   "metadata": {},
   "outputs": [
    {
     "name": "stdout",
     "output_type": "stream",
     "text": [
      "Java is a programming language\n",
      "['Java is a programming language']\n",
      "['Java ', ' is a programming ', ' language']\n"
     ]
    }
   ],
   "source": [
    "str = \"Java is a programming language\"  \n",
    "str2 = str.splitlines() # returns a list having single element  \n",
    "print(str)  \n",
    "print(str2)  \n",
    "str = \"Java \\n is a programming \\r language\"  \n",
    "str2 = str.splitlines() # returns a list having splitted elements  \n",
    "print(str2)  "
   ]
  },
  {
   "cell_type": "markdown",
   "metadata": {},
   "source": [
    "# startswith()"
   ]
  },
  {
   "cell_type": "code",
   "execution_count": 34,
   "metadata": {},
   "outputs": [
    {
     "name": "stdout",
     "output_type": "stream",
     "text": [
      "False\n",
      "True\n",
      "True\n"
     ]
    }
   ],
   "source": [
    "text = \"Python is easy to learn.\"\n",
    "\n",
    "result = text.startswith('is easy')\n",
    "print(result)\n",
    "\n",
    "result = text.startswith('Python is ')\n",
    "print(result)\n",
    "\n",
    "result = text.startswith('Python is easy to learn.')\n",
    "print(result)"
   ]
  },
  {
   "cell_type": "markdown",
   "metadata": {},
   "source": [
    "# strip()"
   ]
  },
  {
   "cell_type": "code",
   "execution_count": 4,
   "metadata": {},
   "outputs": [
    {
     "name": "stdout",
     "output_type": "stream",
     "text": [
      "xoxo love xoxo\n",
      "lov\n",
      " xoxo love xoxo   \n",
      "droid is awesome\n"
     ]
    }
   ],
   "source": [
    "string = ' xoxo love xoxo   '\n",
    "\n",
    "print(string.strip())\n",
    "\n",
    "print(string.strip(' xoxoe'))\n",
    "\n",
    "print(string.strip('sti'))\n",
    "\n",
    "string = 'android is awesome'\n",
    "print(string.strip('an'))"
   ]
  },
  {
   "cell_type": "markdown",
   "metadata": {},
   "source": [
    "# swapcase()"
   ]
  },
  {
   "cell_type": "code",
   "execution_count": 3,
   "metadata": {},
   "outputs": [
    {
     "name": "stdout",
     "output_type": "stream",
     "text": [
      "hELLo\n",
      "STRIVER\n"
     ]
    }
   ],
   "source": [
    "string = \"HellO\"\n",
    "  \n",
    "# prints after swappong all cases \n",
    "print(string.swapcase())    \n",
    "  \n",
    "string = \"striver\" \n",
    "print(string.swapcase()) "
   ]
  },
  {
   "cell_type": "markdown",
   "metadata": {},
   "source": [
    "# title()"
   ]
  },
  {
   "cell_type": "code",
   "execution_count": 40,
   "metadata": {},
   "outputs": [
    {
     "name": "stdout",
     "output_type": "stream",
     "text": [
      "This Is String Example....Wow!!!\n"
     ]
    }
   ],
   "source": [
    "str = \"this is string example....wow!!!\";\n",
    "print(str.title())"
   ]
  },
  {
   "cell_type": "markdown",
   "metadata": {},
   "source": [
    "# translate()"
   ]
  },
  {
   "cell_type": "code",
   "execution_count": 2,
   "metadata": {},
   "outputs": [
    {
     "name": "stdout",
     "output_type": "stream",
     "text": [
      "Original string: abcdef\n",
      "Translated string: idef\n"
     ]
    }
   ],
   "source": [
    "firstString = \"abc\"\n",
    "secondString = \"ghi\"\n",
    "thirdString = \"ab\"\n",
    "\n",
    "string = \"abcdef\"\n",
    "print(\"Original string:\", string)\n",
    "\n",
    "translation = string.maketrans(firstString, secondString, thirdString)\n",
    "\n",
    "# translate string\n",
    "print(\"Translated string:\", string.translate(translation))"
   ]
  },
  {
   "cell_type": "markdown",
   "metadata": {},
   "source": [
    "# upper()"
   ]
  },
  {
   "cell_type": "code",
   "execution_count": 1,
   "metadata": {},
   "outputs": [
    {
     "name": "stdout",
     "output_type": "stream",
     "text": [
      "MY NAME IS HAMZA\n"
     ]
    }
   ],
   "source": [
    "\n",
    "string = 'My name is Hamza'\n",
    "print(string.upper()) "
   ]
  },
  {
   "cell_type": "markdown",
   "metadata": {},
   "source": [
    "# zfill()"
   ]
  },
  {
   "cell_type": "code",
   "execution_count": 43,
   "metadata": {},
   "outputs": [
    {
     "name": "stdout",
     "output_type": "stream",
     "text": [
      "0000000Zfill Example\n"
     ]
    }
   ],
   "source": [
    "text = \"Zfill Example\"  \n",
    "  \n",
    "str2 = text.zfill(20)  \n",
    " \n",
    "print(str2)  "
   ]
  }
 ],
 "metadata": {
  "kernelspec": {
   "display_name": "Python 3",
   "language": "python",
   "name": "python3"
  },
  "language_info": {
   "codemirror_mode": {
    "name": "ipython",
    "version": 3
   },
   "file_extension": ".py",
   "mimetype": "text/x-python",
   "name": "python",
   "nbconvert_exporter": "python",
   "pygments_lexer": "ipython3",
   "version": "3.7.4"
  }
 },
 "nbformat": 4,
 "nbformat_minor": 2
}
