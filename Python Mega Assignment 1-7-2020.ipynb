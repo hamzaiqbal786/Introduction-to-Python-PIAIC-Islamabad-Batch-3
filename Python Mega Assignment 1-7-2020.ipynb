{
 "cells": [
  {
   "cell_type": "markdown",
   "metadata": {},
   "source": [
    "# 9. Write Python Program add key-value pair in dictionary and check if a Given Key or Value or Both Exists in a Dictionary or Not. \n"
   ]
  },
  {
   "cell_type": "code",
   "execution_count": 34,
   "metadata": {},
   "outputs": [
    {
     "name": "stdout",
     "output_type": "stream",
     "text": [
      "name  key exist in dictionary\n",
      "Muhammad iqbal  value exist in dictionary\n",
      "fname  and  Muhammad iqbal  both exist in dictionary\n"
     ]
    }
   ],
   "source": [
    "_myInfo = {\"id\":0,\"name\":\"Hamza iqbal\",\"fname\":\"Muhammad iqbal\",\"course\":\"Artificial Intellignece\"}\n",
    "\n",
    "#checking key exist in dictionary or not\n",
    "for x in _myInfo.keys():\n",
    "    if(x == \"name\"):\n",
    "        print(x,\" key exist in dictionary\")\n",
    "        break\n",
    "\n",
    "#checking value exist in dictionary or not\n",
    "for x in _myInfo.values():\n",
    "    if(x == \"Muhammad iqbal\"):\n",
    "        print(x,\" value exist in dictionary\")\n",
    "        break\n",
    "        \n",
    "#checking value and key exist in dictionary or not\n",
    "for x in _myInfo.keys():\n",
    "    for y in _myInfo.values():\n",
    "        if(x == \"fname\" and y==\"Muhammad iqbal\"):\n",
    "            print(x,\" and \",y,\" both exist in dictionary\")\n",
    "            break"
   ]
  },
  {
   "cell_type": "markdown",
   "metadata": {},
   "source": [
    "# 10. Write a Python Program to Count the Frequency of Words Appearing in a String Using a Dictionary and print only the words having Even (divisible by 2) frequency\n",
    " "
   ]
  },
  {
   "cell_type": "code",
   "execution_count": 63,
   "metadata": {},
   "outputs": [
    {
     "ename": "AttributeError",
     "evalue": "'list' object has no attribute 'values'",
     "output_type": "error",
     "traceback": [
      "\u001b[1;31m---------------------------------------------------------------------------\u001b[0m",
      "\u001b[1;31mAttributeError\u001b[0m                            Traceback (most recent call last)",
      "\u001b[1;32m<ipython-input-63-3e1c34eb7b33>\u001b[0m in \u001b[0;36m<module>\u001b[1;34m\u001b[0m\n\u001b[0;32m      6\u001b[0m \u001b[1;33m\u001b[0m\u001b[0m\n\u001b[0;32m      7\u001b[0m \u001b[1;32mfor\u001b[0m \u001b[0mx\u001b[0m \u001b[1;32min\u001b[0m \u001b[0m_dict\u001b[0m\u001b[1;33m:\u001b[0m\u001b[1;33m\u001b[0m\u001b[1;33m\u001b[0m\u001b[0m\n\u001b[1;32m----> 8\u001b[1;33m     \u001b[1;32mfor\u001b[0m \u001b[0my\u001b[0m \u001b[1;32min\u001b[0m \u001b[0m_dict\u001b[0m\u001b[1;33m[\u001b[0m\u001b[0mx\u001b[0m\u001b[1;33m]\u001b[0m\u001b[1;33m.\u001b[0m\u001b[0mvalues\u001b[0m\u001b[1;33m(\u001b[0m\u001b[1;33m)\u001b[0m\u001b[1;33m:\u001b[0m\u001b[1;33m\u001b[0m\u001b[1;33m\u001b[0m\u001b[0m\n\u001b[0m\u001b[0;32m      9\u001b[0m         \u001b[1;31m#if x == y:\u001b[0m\u001b[1;33m\u001b[0m\u001b[1;33m\u001b[0m\u001b[1;33m\u001b[0m\u001b[0m\n\u001b[0;32m     10\u001b[0m             \u001b[0mcounter\u001b[0m \u001b[1;33m+=\u001b[0m \u001b[1;36m1\u001b[0m\u001b[1;33m\u001b[0m\u001b[1;33m\u001b[0m\u001b[0m\n",
      "\u001b[1;31mAttributeError\u001b[0m: 'list' object has no attribute 'values'"
     ]
    }
   ],
   "source": [
    "_dict = {\"id\":[1,2,3,4,5,6],\n",
    "         \"names\":[\"Hamza\",\"Hassnain\",\"Zohaib\",\"Touseef\",\"Ali\",\"Ahmad\",\"Raheel\",\"Ashfaq\",\"Mushtaq\",\"Javaid\"],\n",
    "         \"lastnames\":[\"Ahmad\",\"Raheel\",\"Ashfaq\",\"Mushtaq\",\"Javaid\",\"Ahmad\",\"Rashid\",\"Hamza\",\"Touseef\",\"Zohaib\"],\n",
    "         \"fnames\":[\"Hamza\",\"Hassnain\",\"Zohaib\",\"Touseef\",\"Javaid\",\"Ahmad\",\"Rashid\",\"Hamza\",\"Touseef\",\"Zohaib\"]}\n",
    "counter = 0\n",
    "\n",
    "for x in _dict:\n",
    "    for y in _dict[x].:\n",
    "        #if x == y:\n",
    "            counter += 1\n",
    "            print(x,\" appear \",counter,\" times in Dictionary: \")\n",
    "    counter = 0\n",
    "    "
   ]
  }
 ],
 "metadata": {
  "kernelspec": {
   "display_name": "Python 3",
   "language": "python",
   "name": "python3"
  },
  "language_info": {
   "codemirror_mode": {
    "name": "ipython",
    "version": 3
   },
   "file_extension": ".py",
   "mimetype": "text/x-python",
   "name": "python",
   "nbconvert_exporter": "python",
   "pygments_lexer": "ipython3",
   "version": "3.7.4"
  }
 },
 "nbformat": 4,
 "nbformat_minor": 2
}
