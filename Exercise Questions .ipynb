{
 "cells": [
  {
   "cell_type": "code",
   "execution_count": 11,
   "metadata": {},
   "outputs": [
    {
     "name": "stdout",
     "output_type": "stream",
     "text": [
      "Python version\n",
      "3.7.3 (default, Apr 24 2019, 15:29:51) [MSC v.1915 64 bit (AMD64)]\n",
      "Version info.\n",
      "sys.version_info(major=3, minor=7, micro=3, releaselevel='final', serial=0)\n"
     ]
    }
   ],
   "source": [
    "import sys\n",
    "print(\"Python version\")\n",
    "print (sys.version)\n",
    "print(\"Version info.\")\n",
    "print (sys.version_info)"
   ]
  },
  {
   "cell_type": "code",
   "execution_count": 12,
   "metadata": {},
   "outputs": [
    {
     "name": "stdout",
     "output_type": "stream",
     "text": [
      "Enter the Radius of Area = 2\n",
      "12.564\n"
     ]
    }
   ],
   "source": [
    "# Find the area \n",
    "\n",
    "radius = input(\"Enter the Radius of Area = \")\n",
    "area = 2*3.141*float(radius)\n",
    "print(area)"
   ]
  },
  {
   "cell_type": "code",
   "execution_count": 16,
   "metadata": {},
   "outputs": [
    {
     "name": "stdout",
     "output_type": "stream",
     "text": [
      "Enter First Name ...hamza\n",
      "Enter Second Name ...iqbal\n",
      "hamza iqbal\n",
      "labqi azmah"
     ]
    }
   ],
   "source": [
    "first_name = input(\"Enter First Name ...\")\n",
    "second_name = input(\"Enter Second Name ...\")\n",
    "\n",
    "print(first_name +\" \"+ second_name)\n",
    "\n",
    "for x1 in reversed(second_name):\n",
    "    print(x1, end = \"\")\n",
    "\n",
    "print(\" \",end = \"\")\n",
    "    \n",
    "for x in reversed(first_name):\n",
    "    print(x, end = \"\")\n",
    "    \n",
    "\n",
    "    "
   ]
  },
  {
   "cell_type": "code",
   "execution_count": 18,
   "metadata": {},
   "outputs": [
    {
     "name": "stdout",
     "output_type": "stream",
     "text": [
      "Enter file name test.java\n",
      ".\n"
     ]
    }
   ],
   "source": [
    "filename = input(\"Enter file name \")\n",
    "for x in filename:\n",
    "    if x==\".\":\n",
    "        print(x)\n",
    "    "
   ]
  },
  {
   "cell_type": "code",
   "execution_count": 6,
   "metadata": {},
   "outputs": [
    {
     "name": "stdout",
     "output_type": "stream",
     "text": [
      "Red Black\n"
     ]
    }
   ],
   "source": [
    "color_list = [\"Red\",\"Green\",\"White\" ,\"Black\"]\n",
    "\n",
    "print(color_list[0],color_list[3])"
   ]
  },
  {
   "cell_type": "code",
   "execution_count": 11,
   "metadata": {},
   "outputs": [
    {
     "name": "stdout",
     "output_type": "stream",
     "text": [
      "11 / 12 / 2014\n"
     ]
    }
   ],
   "source": [
    "exam_st_date = (11, 12, 2014)\n",
    "\n",
    "print(exam_st_date[0],\"/\",exam_st_date[1],\"/\",exam_st_date[2])"
   ]
  },
  {
   "cell_type": "code",
   "execution_count": 14,
   "metadata": {},
   "outputs": [
    {
     "name": "stdout",
     "output_type": "stream",
     "text": [
      "9\n"
     ]
    }
   ],
   "source": [
    "from datetime import date\n",
    "f_date = date(2014, 7, 2)\n",
    "l_date = date(2014, 7, 11)\n",
    "delta = l_date - f_date\n",
    "print(delta.days)\n"
   ]
  },
  {
   "cell_type": "code",
   "execution_count": 15,
   "metadata": {},
   "outputs": [
    {
     "name": "stdout",
     "output_type": "stream",
     "text": [
      "The volume of the sphere is:  904.7786842338603\n"
     ]
    }
   ],
   "source": [
    "pi = 3.1415926535897931\n",
    "r= 6.0\n",
    "V= 4.0/3.0*pi* r**3\n",
    "print('The volume of the sphere is: ',V)"
   ]
  },
  {
   "cell_type": "code",
   "execution_count": 16,
   "metadata": {},
   "outputs": [
    {
     "name": "stdout",
     "output_type": "stream",
     "text": [
      "6\n",
      "27\n"
     ]
    }
   ],
   "source": [
    "def sum_thrice(x, y, z):\n",
    "\n",
    "     sum = x + y + z\n",
    "  \n",
    "     if x == y == z:\n",
    "      sum = sum * 3\n",
    "     return sum\n",
    "\n",
    "print(sum_thrice(1, 2, 3))\n",
    "print(sum_thrice(3, 3, 3))"
   ]
  },
  {
   "cell_type": "code",
   "execution_count": 18,
   "metadata": {},
   "outputs": [
    {
     "name": "stdout",
     "output_type": "stream",
     "text": [
      "Enter a number: 2\n",
      "This is an even number.\n"
     ]
    }
   ],
   "source": [
    "num = int(input(\"Enter a number: \"))\n",
    "mod = num % 2\n",
    "if mod > 0:\n",
    "    print(\"This is an odd number.\")\n",
    "else:\n",
    "    print(\"This is an even number.\")"
   ]
  },
  {
   "cell_type": "code",
   "execution_count": 36,
   "metadata": {},
   "outputs": [
    {
     "name": "stdout",
     "output_type": "stream",
     "text": [
      "3\n"
     ]
    }
   ],
   "source": [
    "def _countingFour(num):\n",
    "    \n",
    "    count = 0\n",
    "    \n",
    "    for x in num:\n",
    "        if(x == 4):\n",
    "            count += 1\n",
    "    print(count)\n",
    "\n",
    "\n",
    "_countingFour([1,2,3,4,5,4,5,4,6])"
   ]
  },
  {
   "cell_type": "code",
   "execution_count": 17,
   "metadata": {},
   "outputs": [
    {
     "name": "stdout",
     "output_type": "stream",
     "text": [
      "[2, 5, 6, 9, 7, 4]\n"
     ]
    }
   ],
   "source": [
    "data = [2,5,8,6,9,7,7,4,]\n",
    "\n",
    "counter = 0\n",
    "\n",
    "for x in data:\n",
    "    counter += 1\n",
    "    if(counter == 3):\n",
    "        #print(x)\n",
    "        counter = 0\n",
    "        data.remove(x)\n",
    "print(data)"
   ]
  },
  {
   "cell_type": "code",
   "execution_count": 22,
   "metadata": {
    "code_folding": []
   },
   "outputs": [
    {
     "name": "stdout",
     "output_type": "stream",
     "text": [
      "Number is odd =  1\n",
      "Number is odd =  5\n",
      "Numebr is even =  6\n",
      "Number is odd =  9\n",
      "Numebr is even =  8\n",
      "Number is odd =  755\n",
      "Numebr is even =  96\n",
      "Number is odd =  7\n",
      "Number is odd =  5\n",
      "Number is odd =  9\n",
      "Number is odd =  5\n",
      "Number is odd =  9\n"
     ]
    }
   ],
   "source": [
    "data = [1,5,6,9,8,755,96,7,5,9,5,9]\n",
    "\n",
    "for x in data:\n",
    "    if x%2==0:\n",
    "        print('Numebr is even = ',x)\n",
    "    else:\n",
    "        print('Number is odd = ',x)"
   ]
  },
  {
   "cell_type": "code",
   "execution_count": 2,
   "metadata": {},
   "outputs": [
    {
     "name": "stdout",
     "output_type": "stream",
     "text": [
      "\n",
      "ID:28186\n",
      "Name:Hamza iqbal\n",
      "Father Name:Muhammad Iqbal\n",
      "Program:BSCS\n",
      "Session:2015-20119\n",
      "\n",
      "\n"
     ]
    }
   ],
   "source": [
    "uni_id = \"28186\"\n",
    "name = \"Hamza iqbal\"\n",
    "fname = \"Muhammad Iqbal\"\n",
    "program = \"BSCS\"\n",
    "session = \"2015-20119\"\n",
    "\n",
    "message = \"\"\"\n",
    "ID:{}\n",
    "Name:{}\n",
    "Father Name:{}\n",
    "Program:{}\n",
    "Session:{}\n",
    "\n",
    "\"\"\".format(uni_id,name,fname,program,session)\n",
    "print(message)"
   ]
  }
 ],
 "metadata": {
  "kernelspec": {
   "display_name": "Python 3",
   "language": "python",
   "name": "python3"
  },
  "language_info": {
   "codemirror_mode": {
    "name": "ipython",
    "version": 3
   },
   "file_extension": ".py",
   "mimetype": "text/x-python",
   "name": "python",
   "nbconvert_exporter": "python",
   "pygments_lexer": "ipython3",
   "version": "3.7.3"
  },
  "toc": {
   "base_numbering": 1,
   "nav_menu": {},
   "number_sections": true,
   "sideBar": true,
   "skip_h1_title": false,
   "title_cell": "Table of Contents",
   "title_sidebar": "Contents",
   "toc_cell": false,
   "toc_position": {},
   "toc_section_display": true,
   "toc_window_display": false
  }
 },
 "nbformat": 4,
 "nbformat_minor": 2
}
