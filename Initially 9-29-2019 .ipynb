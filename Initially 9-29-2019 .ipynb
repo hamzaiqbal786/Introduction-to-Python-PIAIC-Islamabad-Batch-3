{
 "cells": [
  {
   "cell_type": "code",
   "execution_count": 1,
   "metadata": {},
   "outputs": [
    {
     "name": "stdout",
     "output_type": "stream",
     "text": [
      "Hello world\n"
     ]
    }
   ],
   "source": [
    "print(\"Hello world\")"
   ]
  },
  {
   "cell_type": "code",
   "execution_count": 14,
   "metadata": {},
   "outputs": [
    {
     "name": "stdout",
     "output_type": "stream",
     "text": [
      "Values are miss matched\n"
     ]
    }
   ],
   "source": [
    "x=50\n",
    "y=30\n",
    "z=20\n",
    "show_me = \"{} is equal to {} \"\n",
    "if x==y:\n",
    "    print(show_me.format(x,y))\n",
    "elif x==z:\n",
    "    print(show_me.format(x,z))\n",
    "else:\n",
    "    print(\"Values are miss matched\")"
   ]
  },
  {
   "cell_type": "code",
   "execution_count": 24,
   "metadata": {},
   "outputs": [
    {
     "name": "stdout",
     "output_type": "stream",
     "text": [
      "20 is equal to 20 \n"
     ]
    }
   ],
   "source": [
    "def myFunation(x,y,z):\n",
    "    \n",
    "    show_me = \"{} is equal to {} \"\n",
    "    if x==y:\n",
    "        print(show_me.format(x,y))\n",
    "    elif x==z:\n",
    "        print(show_me.format(x,z))\n",
    "    else:\n",
    "        print(\"Values are miss matched\")\n",
    "\n",
    "        \n",
    "myFunation(20,20,20)\n",
    "    "
   ]
  },
  {
   "cell_type": "code",
   "execution_count": 27,
   "metadata": {},
   "outputs": [
    {
     "name": "stdout",
     "output_type": "stream",
     "text": [
      "['apple', 'banana', 'mango']\n",
      "Printing with for loop\n",
      "apple\n",
      "banana\n",
      "mango\n"
     ]
    }
   ],
   "source": [
    "def forLoopExamples():\n",
    "    \n",
    "    fruit_list = [\"apple\",\"banana\",\"mango\"]\n",
    "    print(fruit_list)\n",
    "    \n",
    "    print(\"Printing with for loop\")\n",
    "    \n",
    "    for x in fruit_list:\n",
    "        print(x)\n",
    "    \n",
    "    \n",
    "forLoopExamples()"
   ]
  },
  {
   "cell_type": "code",
   "execution_count": null,
   "metadata": {},
   "outputs": [],
   "source": []
  }
 ],
 "metadata": {
  "kernelspec": {
   "display_name": "Python 3",
   "language": "python",
   "name": "python3"
  },
  "language_info": {
   "codemirror_mode": {
    "name": "ipython",
    "version": 3
   },
   "file_extension": ".py",
   "mimetype": "text/x-python",
   "name": "python",
   "nbconvert_exporter": "python",
   "pygments_lexer": "ipython3",
   "version": "3.7.3"
  }
 },
 "nbformat": 4,
 "nbformat_minor": 2
}
