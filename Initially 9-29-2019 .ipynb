{
 "cells": [
  {
   "cell_type": "code",
   "execution_count": 1,
   "metadata": {},
   "outputs": [
    {
     "name": "stdout",
     "output_type": "stream",
     "text": [
      "Hello world\n"
     ]
    }
   ],
   "source": [
    "print(\"Hello world\")"
   ]
  },
  {
   "cell_type": "code",
   "execution_count": 14,
   "metadata": {},
   "outputs": [
    {
     "name": "stdout",
     "output_type": "stream",
     "text": [
      "Values are miss matched\n"
     ]
    }
   ],
   "source": [
    "x=50\n",
    "y=30\n",
    "z=20\n",
    "show_me = \"{} is equal to {} \"\n",
    "if x==y:\n",
    "    print(show_me.format(x,y))\n",
    "elif x==z:\n",
    "    print(show_me.format(x,z))\n",
    "else:\n",
    "    print(\"Values are miss matched\")"
   ]
  },
  {
   "cell_type": "code",
   "execution_count": 24,
   "metadata": {},
   "outputs": [
    {
     "name": "stdout",
     "output_type": "stream",
     "text": [
      "20 is equal to 20 \n"
     ]
    }
   ],
   "source": [
    "def myFunation(x,y,z):\n",
    "    \n",
    "    show_me = \"{} is equal to {} \"\n",
    "    if x==y:\n",
    "        print(show_me.format(x,y))\n",
    "    elif x==z:\n",
    "        print(show_me.format(x,z))\n",
    "    else:\n",
    "        print(\"Values are miss matched\")\n",
    "\n",
    "        \n",
    "myFunation(20,20,20)\n",
    "    "
   ]
  },
  {
   "cell_type": "code",
   "execution_count": 27,
   "metadata": {},
   "outputs": [
    {
     "name": "stdout",
     "output_type": "stream",
     "text": [
      "['apple', 'banana', 'mango']\n",
      "Printing with for loop\n",
      "apple\n",
      "banana\n",
      "mango\n"
     ]
    }
   ],
   "source": [
    "def forLoopExamples():\n",
    "    \n",
    "    fruit_list = [\"apple\",\"banana\",\"mango\"]\n",
    "    print(fruit_list)\n",
    "    \n",
    "    print(\"Printing with for loop\")\n",
    "    \n",
    "    for x in fruit_list:\n",
    "        print(x)\n",
    "    \n",
    "    \n",
    "forLoopExamples()"
   ]
  },
  {
   "cell_type": "code",
   "execution_count": 17,
   "metadata": {},
   "outputs": [
    {
     "name": "stdout",
     "output_type": "stream",
     "text": [
      "{'id': 1, 'name': 'Hamza iqbal', 'fname': 'Muhammad Iqbal'}\n",
      "{'id': 2, 'name': 'Hassnain iqbal', 'fname': 'Muhammad Iqbal'}\n",
      "1\n",
      "Muhammad Iqbal\n",
      "{'id': 1, 'name': 'Hamza iqbal'}\n",
      "After concatination\n",
      "['id', 'name', 'id', 'name', 'fname']\n"
     ]
    }
   ],
   "source": [
    "dict1 = {\"id\":1,\"name\":\"Hamza iqbal\",\"fname\":\"Muhammad Iqbal\"}\n",
    "print(dict1)\n",
    "dict2 = {\"id\":2,\"name\":\"Hassnain iqbal\",\"fname\":\"Muhammad Iqbal\"}\n",
    "print(dict2)\n",
    "\n",
    "print(dict1[\"id\"])\n",
    "\n",
    "popedvalue = dict1.pop(\"fname\")\n",
    "\n",
    "print(popedvalue)\n",
    "print(dict1)\n",
    "print(\"After concatination\")\n",
    "\n",
    "newdict = list(dict1)+list(dict2)\n",
    "print(newdict)"
   ]
  },
  {
   "cell_type": "code",
   "execution_count": 24,
   "metadata": {},
   "outputs": [
    {
     "name": "stdout",
     "output_type": "stream",
     "text": [
      "{'id': 1, 'name': 'Hamza iqbal', 'fname': 'Muhammad Iqbal'}\n",
      "{'id': 2, 'name': 'Hassnain iqbal', 'fname': 'Muhammad Iqbal'}\n",
      "('fname', 'Muhammad Iqbal')\n",
      "{'id': 1, 'name': 'Hamza iqbal'}\n"
     ]
    }
   ],
   "source": [
    "dict1 = {\"id\":1,\"name\":\"Hamza iqbal\",\"fname\":\"Muhammad Iqbal\"}\n",
    "print(dict1)\n",
    "dict2 = {\"id\":2,\"name\":\"Hassnain iqbal\",\"fname\":\"Muhammad Iqbal\"}\n",
    "print(dict2)\n",
    "\n",
    "popedvalue = dict1.popitem()\n",
    "\n",
    "print(popedvalue)\n",
    "print(dict1)\n"
   ]
  },
  {
   "cell_type": "code",
   "execution_count": 29,
   "metadata": {},
   "outputs": [
    {
     "name": "stdout",
     "output_type": "stream",
     "text": [
      "{'id': 1, 'name': 'Hamza iqbal', 'fname': 'Muhammad Iqbal'}\n",
      "{'id': 2, 'name': 'Hassnain iqbal', 'fname': 'Muhammad Iqbal'}\n"
     ]
    },
    {
     "data": {
      "text/plain": [
       "dict_items([('id', 1), ('name', 'Hamza iqbal'), ('fname', 'Muhammad Iqbal')])"
      ]
     },
     "execution_count": 29,
     "metadata": {},
     "output_type": "execute_result"
    }
   ],
   "source": [
    "dict1 = {\"id\":1,\"name\":\"Hamza iqbal\",\"fname\":\"Muhammad Iqbal\"}\n",
    "print(dict1)\n",
    "dict2 = {\"id\":2,\"name\":\"Hassnain iqbal\",\"fname\":\"Muhammad Iqbal\"}\n",
    "print(dict2)\n",
    "\n",
    "dict1.items()"
   ]
  },
  {
   "cell_type": "code",
   "execution_count": 30,
   "metadata": {},
   "outputs": [
    {
     "data": {
      "text/plain": [
       "dict_values([2, 'Hassnain iqbal', 'Muhammad Iqbal'])"
      ]
     },
     "execution_count": 30,
     "metadata": {},
     "output_type": "execute_result"
    }
   ],
   "source": [
    "\n",
    "dict2.values()"
   ]
  },
  {
   "cell_type": "code",
   "execution_count": 31,
   "metadata": {},
   "outputs": [
    {
     "data": {
      "text/plain": [
       "dict_keys(['id', 'name', 'fname'])"
      ]
     },
     "execution_count": 31,
     "metadata": {},
     "output_type": "execute_result"
    }
   ],
   "source": [
    "dict1.keys()"
   ]
  }
 ],
 "metadata": {
  "kernelspec": {
   "display_name": "Python 3",
   "language": "python",
   "name": "python3"
  },
  "language_info": {
   "codemirror_mode": {
    "name": "ipython",
    "version": 3
   },
   "file_extension": ".py",
   "mimetype": "text/x-python",
   "name": "python",
   "nbconvert_exporter": "python",
   "pygments_lexer": "ipython3",
   "version": "3.7.4"
  }
 },
 "nbformat": 4,
 "nbformat_minor": 2
}
